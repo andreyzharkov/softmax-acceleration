{
 "cells": [
  {
   "cell_type": "markdown",
   "metadata": {},
   "source": [
    "# Softmax fast approximations\n",
    "\n",
    "Короче, выбрал этот странный mxnet т.к. там 1)очень простая предобработка (причем она есть для всех датасетов, стоит только поменять dataset_name) и 2)есть предобученные языковые модели на этих датасетах, так что можно не тратить время на обучение вообще - никаких gpu не надо\n",
    "\n",
    "По сути тут все операции как в numpy (вместо np пиши nd и все)\n",
    "\n",
    "Про gluonnlp & mxnet за 5 минут https://beta.mxnet.io/guide/crash-course/index.html"
   ]
  },
  {
   "cell_type": "code",
   "execution_count": 1,
   "metadata": {},
   "outputs": [],
   "source": [
    "import warnings\n",
    "warnings.filterwarnings('ignore')\n",
    "\n",
    "import glob\n",
    "import time\n",
    "import math\n",
    "\n",
    "import mxnet as mx\n",
    "from mxnet import gluon, autograd\n",
    "from mxnet.gluon.utils import download\n",
    "from mxnet import ndarray as nd\n",
    "\n",
    "import gluonnlp as nlp\n",
    "import numpy as np\n",
    "\n",
    "import matplotlib.pyplot as plt\n",
    "%matplotlib inline"
   ]
  },
  {
   "cell_type": "code",
   "execution_count": 2,
   "metadata": {},
   "outputs": [],
   "source": [
    "num_gpus = 0\n",
    "context = [mx.gpu(i) for i in range(num_gpus)] if num_gpus else mx.cpu()\n",
    "log_interval = 200"
   ]
  },
  {
   "cell_type": "code",
   "execution_count": 3,
   "metadata": {},
   "outputs": [],
   "source": [
    "batch_size = 20 #* len(context)\n",
    "lr = 20\n",
    "epochs = 3\n",
    "bptt = 35\n",
    "grad_clip = 0.25"
   ]
  },
  {
   "cell_type": "code",
   "execution_count": 4,
   "metadata": {},
   "outputs": [],
   "source": [
    "dataset_name = 'wikitext-2'\n",
    "train_dataset, val_dataset, test_dataset = [\n",
    "    nlp.data.WikiText2(\n",
    "        segment=segment, bos=None, eos='<eos>', skip_empty=False)\n",
    "    for segment in ['train', 'val', 'test']\n",
    "]\n",
    "\n",
    "vocab = nlp.Vocab(\n",
    "    nlp.data.Counter(train_dataset), padding_token=None, bos_token=None)\n",
    "\n",
    "bptt_batchify = nlp.data.batchify.CorpusBPTTBatchify(\n",
    "    vocab, bptt, batch_size, last_batch='discard')\n",
    "train_data, val_data, test_data = [\n",
    "    bptt_batchify(x) for x in [train_dataset, val_dataset, test_dataset]\n",
    "]"
   ]
  },
  {
   "cell_type": "code",
   "execution_count": 5,
   "metadata": {},
   "outputs": [],
   "source": [
    "model_names = [\n",
    "    'awd_lstm_lm_1150',\n",
    "    'awd_lstm_lm_600',\n",
    "    'standard_lstm_lm_1500',\n",
    "    'standard_lstm_lm_650',\n",
    "    'standard_lstm_lm_200',\n",
    "#     'elmo_2x4096_512_2048cnn_2xhighway'\n",
    "]\n",
    "# model_name = 'standard_lstm_lm_200'\n",
    "# model, vocab = nlp.model.get_model(model_name, vocab=vocab, \n",
    "#                                    dataset_name=dataset_name, pretrained=True, \n",
    "#                                    ctx=context)\n",
    "# original_decoder = model.decoder\n",
    "# print(model)\n",
    "# print(vocab)\n",
    "models = dict((name, nlp.model.get_model(name, vocab=vocab, \n",
    "                                         dataset_name=dataset_name, pretrained=True, \n",
    "                                         ctx=context)[0]) for name in model_names)\n",
    "\n",
    "# model.initialize(mx.init.Xavier(), ctx=context)\n",
    "\n",
    "# trainer = gluon.Trainer(model.collect_params(), 'sgd', {\n",
    "#     'learning_rate': lr,\n",
    "#     'momentum': 0,\n",
    "#     'wd': 0\n",
    "# })\n",
    "loss = gluon.loss.SoftmaxCrossEntropyLoss()"
   ]
  },
  {
   "cell_type": "code",
   "execution_count": 6,
   "metadata": {},
   "outputs": [
    {
     "name": "stdout",
     "output_type": "stream",
     "text": [
      "awd_lstm_lm_1150\n",
      "AWDRNN(\n",
      "  (embedding): HybridSequential(\n",
      "    (0): Embedding(33278 -> 400, float32)\n",
      "    (1): Dropout(p = 0.65, axes=(0,))\n",
      "  )\n",
      "  (encoder): Sequential(\n",
      "    (0): LSTM(400 -> 1150, TNC)\n",
      "    (1): LSTM(1150 -> 1150, TNC)\n",
      "    (2): LSTM(1150 -> 400, TNC)\n",
      "  )\n",
      "  (decoder): HybridSequential(\n",
      "    (0): Dense(400 -> 33278, linear)\n",
      "  )\n",
      ")\n",
      "odict_keys(['awdrnn0_hybridsequential0_embedding0_weight', 'awdrnn0_sequential0_lstm0_l0_i2h_weight', 'awdrnn0_sequential0_lstm0_l0_h2h_weight', 'awdrnn0_sequential0_lstm0_l0_i2h_bias', 'awdrnn0_sequential0_lstm0_l0_h2h_bias', 'awdrnn0_sequential0_lstm1_l0_i2h_weight', 'awdrnn0_sequential0_lstm1_l0_h2h_weight', 'awdrnn0_sequential0_lstm1_l0_i2h_bias', 'awdrnn0_sequential0_lstm1_l0_h2h_bias', 'awdrnn0_sequential0_lstm2_l0_i2h_weight', 'awdrnn0_sequential0_lstm2_l0_h2h_weight', 'awdrnn0_sequential0_lstm2_l0_i2h_bias', 'awdrnn0_sequential0_lstm2_l0_h2h_bias', 'awdrnn0_hybridsequential0_embedding0_bias'])\n",
      "\n",
      "awd_lstm_lm_600\n",
      "AWDRNN(\n",
      "  (embedding): HybridSequential(\n",
      "    (0): Embedding(33278 -> 200, float32)\n",
      "    (1): Dropout(p = 0.3, axes=(0,))\n",
      "  )\n",
      "  (encoder): Sequential(\n",
      "    (0): LSTM(200 -> 600, TNC)\n",
      "    (1): LSTM(600 -> 600, TNC)\n",
      "    (2): LSTM(600 -> 200, TNC)\n",
      "  )\n",
      "  (decoder): HybridSequential(\n",
      "    (0): Dense(200 -> 33278, linear)\n",
      "  )\n",
      ")\n",
      "odict_keys(['awdrnn1_hybridsequential0_embedding0_weight', 'awdrnn1_sequential0_lstm0_l0_i2h_weight', 'awdrnn1_sequential0_lstm0_l0_h2h_weight', 'awdrnn1_sequential0_lstm0_l0_i2h_bias', 'awdrnn1_sequential0_lstm0_l0_h2h_bias', 'awdrnn1_sequential0_lstm1_l0_i2h_weight', 'awdrnn1_sequential0_lstm1_l0_h2h_weight', 'awdrnn1_sequential0_lstm1_l0_i2h_bias', 'awdrnn1_sequential0_lstm1_l0_h2h_bias', 'awdrnn1_sequential0_lstm2_l0_i2h_weight', 'awdrnn1_sequential0_lstm2_l0_h2h_weight', 'awdrnn1_sequential0_lstm2_l0_i2h_bias', 'awdrnn1_sequential0_lstm2_l0_h2h_bias', 'awdrnn1_hybridsequential0_embedding0_bias'])\n",
      "\n",
      "standard_lstm_lm_1500\n",
      "StandardRNN(\n",
      "  (embedding): HybridSequential(\n",
      "    (0): Embedding(33278 -> 1500, float32)\n",
      "    (1): Dropout(p = 0.65, axes=())\n",
      "  )\n",
      "  (encoder): LSTM(1500 -> 1500, TNC, num_layers=2, dropout=0.65)\n",
      "  (decoder): HybridSequential(\n",
      "    (0): Dense(1500 -> 33278, linear)\n",
      "  )\n",
      ")\n",
      "odict_keys(['standardrnn0_hybridsequential0_embedding0_weight', 'standardrnn0_lstm0_l0_i2h_weight', 'standardrnn0_lstm0_l0_h2h_weight', 'standardrnn0_lstm0_l0_i2h_bias', 'standardrnn0_lstm0_l0_h2h_bias', 'standardrnn0_lstm0_l1_i2h_weight', 'standardrnn0_lstm0_l1_h2h_weight', 'standardrnn0_lstm0_l1_i2h_bias', 'standardrnn0_lstm0_l1_h2h_bias', 'standardrnn0_hybridsequential0_embedding0_bias'])\n",
      "\n",
      "standard_lstm_lm_650\n",
      "StandardRNN(\n",
      "  (embedding): HybridSequential(\n",
      "    (0): Embedding(33278 -> 650, float32)\n",
      "    (1): Dropout(p = 0.5, axes=())\n",
      "  )\n",
      "  (encoder): LSTM(650 -> 650, TNC, num_layers=2, dropout=0.5)\n",
      "  (decoder): HybridSequential(\n",
      "    (0): Dense(650 -> 33278, linear)\n",
      "  )\n",
      ")\n",
      "odict_keys(['standardrnn1_hybridsequential0_embedding0_weight', 'standardrnn1_lstm0_l0_i2h_weight', 'standardrnn1_lstm0_l0_h2h_weight', 'standardrnn1_lstm0_l0_i2h_bias', 'standardrnn1_lstm0_l0_h2h_bias', 'standardrnn1_lstm0_l1_i2h_weight', 'standardrnn1_lstm0_l1_h2h_weight', 'standardrnn1_lstm0_l1_i2h_bias', 'standardrnn1_lstm0_l1_h2h_bias', 'standardrnn1_hybridsequential0_embedding0_bias'])\n",
      "\n",
      "standard_lstm_lm_200\n",
      "StandardRNN(\n",
      "  (embedding): HybridSequential(\n",
      "    (0): Embedding(33278 -> 200, float32)\n",
      "    (1): Dropout(p = 0.2, axes=())\n",
      "  )\n",
      "  (encoder): LSTM(200 -> 200, TNC, num_layers=2, dropout=0.2)\n",
      "  (decoder): HybridSequential(\n",
      "    (0): Dense(200 -> 33278, linear)\n",
      "  )\n",
      ")\n",
      "odict_keys(['standardrnn2_hybridsequential0_embedding0_weight', 'standardrnn2_lstm0_l0_i2h_weight', 'standardrnn2_lstm0_l0_h2h_weight', 'standardrnn2_lstm0_l0_i2h_bias', 'standardrnn2_lstm0_l0_h2h_bias', 'standardrnn2_lstm0_l1_i2h_weight', 'standardrnn2_lstm0_l1_h2h_weight', 'standardrnn2_lstm0_l1_i2h_bias', 'standardrnn2_lstm0_l1_h2h_bias', 'standardrnn2_hybridsequential0_embedding0_bias'])\n",
      "\n"
     ]
    }
   ],
   "source": [
    "for (name, model) in models.items():\n",
    "    print(name)\n",
    "    print(model)\n",
    "    print(model.collect_params().keys())\n",
    "    print()"
   ]
  },
  {
   "cell_type": "code",
   "execution_count": 7,
   "metadata": {},
   "outputs": [],
   "source": [
    "def detach(hidden):\n",
    "    if isinstance(hidden, (tuple, list)):\n",
    "        hidden = [detach(i) for i in hidden]\n",
    "    else:\n",
    "        hidden = hidden.detach()\n",
    "    return hidden\n",
    "\n",
    "def evaluate(model, data_source, batch_size, ctx, loss=loss, max_steps=50):\n",
    "    total_L = 0.0\n",
    "    total_time = 0.0\n",
    "    ntotal = 0\n",
    "    hidden = model.begin_state(\n",
    "        batch_size=batch_size, func=mx.nd.zeros, ctx=ctx)\n",
    "    for i, (data, target) in enumerate(data_source):\n",
    "        data = data.as_in_context(ctx)\n",
    "        target = target.as_in_context(ctx)\n",
    "        t_begin = time.time()\n",
    "        output, hidden = model(data, hidden)\n",
    "        output.wait_to_read()\n",
    "        single_t = time.time() - t_begin\n",
    "        hidden = detach(hidden)\n",
    "        if loss is not None:\n",
    "            L = loss(output.reshape(-3, -1), target.reshape(-1))\n",
    "            total_L += mx.nd.sum(L).asscalar()\n",
    "        total_time += single_t\n",
    "        ntotal += target.reshape(-1).size\n",
    "        if i > max_steps:\n",
    "            break\n",
    "#         print(f'curr loss = {total_L/ntotal:.2f}, '\n",
    "#               'perplexity = {np.exp(total_L/ntotal):.2f}, '\n",
    "#               'time = {total_time/ntotal:.7f}')\n",
    "    return total_L / ntotal, total_time / ntotal\n",
    "\n",
    "def make_report(prefix, L, t):\n",
    "    print(f'{prefix} loss: {L:.2f}, ppl: {np.exp(L):.2f} time: {t:.7f}')\n",
    "    \n",
    "def evaluate_and_log(model, data_source, batch_size, ctx, loss=loss, prefix=\"\"):\n",
    "    avg_L, avg_t = evaluate(model, test_data, batch_size, context, loss=loss)\n",
    "    make_report(prefix, avg_L, avg_t)\n",
    "    return avg_L, avg_t"
   ]
  },
  {
   "cell_type": "code",
   "execution_count": 8,
   "metadata": {},
   "outputs": [],
   "source": [
    "original_decoder = None\n",
    "model = models['standard_lstm_lm_200']"
   ]
  },
  {
   "cell_type": "code",
   "execution_count": 9,
   "metadata": {},
   "outputs": [
    {
     "name": "stdout",
     "output_type": "stream",
     "text": [
      " loss: 4.62, ppl: 101.78 time: 0.0001751\n",
      "CPU times: user 23.5 s, sys: 698 ms, total: 24.2 s\n",
      "Wall time: 15.3 s\n"
     ]
    }
   ],
   "source": [
    "%%time\n",
    "if original_decoder is None:\n",
    "    original_decoder = model.decoder\n",
    "else:\n",
    "    model.decoder = original_decoder\n",
    "model.hybridize(active=False)\n",
    "evaluate_and_log(model, test_data, batch_size, context, loss=loss)"
   ]
  },
  {
   "cell_type": "code",
   "execution_count": 10,
   "metadata": {},
   "outputs": [],
   "source": [
    "class CELoss(gluon.loss.Loss):\n",
    "    def __init__(self, axis=-1, sparse_label=True, from_logits=False, weight=None,\n",
    "                 batch_axis=0, **kwargs):\n",
    "        super(CELoss, self).__init__(weight, batch_axis, **kwargs)\n",
    "        self._axis = axis\n",
    "        self._sparse_label = sparse_label\n",
    "        self._from_logits = from_logits\n",
    "\n",
    "    def hybrid_forward(self, F, pred, label, sample_weight=None):\n",
    "        EPS = 1e-12  # affects loss strongly!!!\n",
    "        log_pred = F.log(F.clip(pred, EPS, 1-EPS))\n",
    "        loss = -F.pick(log_pred, label, axis=self._axis, keepdims=True)\n",
    "        return F.mean(loss, axis=self._batch_axis, exclude=True)"
   ]
  },
  {
   "cell_type": "code",
   "execution_count": 11,
   "metadata": {},
   "outputs": [],
   "source": [
    "def get_last_layer_weight_and_bias(model):\n",
    "    params = model.collect_params()\n",
    "    W_suffix = '_hybridsequential0_embedding0_weight'\n",
    "    b_suffix = '_hybridsequential0_embedding0_bias'\n",
    "    W, b = None, None\n",
    "    for param_key in params.keys():\n",
    "        if param_key.endswith(W_suffix):\n",
    "#             print('reading weight from', param_key)\n",
    "            assert W is None\n",
    "            W = params[param_key].data().asnumpy()\n",
    "        elif param_key.endswith(b_suffix):\n",
    "#             print('reading bias from', param_key)\n",
    "            assert b is None\n",
    "            b = params[param_key].data().asnumpy()\n",
    "    assert W is not None and b is not None, params.keys()\n",
    "    return W, b\n",
    "\n",
    "def get_last_layer_svd_and_b(model):\n",
    "    W, b = get_last_layer_weight_and_bias(model)\n",
    "    U, Sigma, V_t = np.linalg.svd(W, full_matrices=False)\n",
    "    return (U, Sigma, V_t), b\n",
    "\n",
    "def create_decoder(model, preview_W=10, full_view_N=100, rough_approximation=False):\n",
    "    svd_decomposition_W, b = get_last_layer_svd_and_b(model)\n",
    "    \n",
    "    new_decoder = gluon.nn.HybridSequential()\n",
    "    new_decoder.add(\n",
    "        SVDSoftmax(\n",
    "            svd_decomposition_W, b, \n",
    "            preview_W=preview_W, \n",
    "            full_view_N=full_view_N,\n",
    "            rough_approximation=rough_approximation))\n",
    "    new_decoder.initialize()\n",
    "    return new_decoder\n",
    "\n",
    "def with_sm_decoder(model, preview_W=10, full_view_N=100, return_full=False):\n",
    "    svd_decomposition_W, b = get_last_layer_svd_and_b(model)\n",
    "    \n",
    "    new_decoder = gluon.nn.HybridSequential()\n",
    "    new_decoder.add(model.decoder[0])\n",
    "    new_decoder.add(Softmax())\n",
    "    new_decoder.initialize()\n",
    "    return new_decoder"
   ]
  },
  {
   "cell_type": "code",
   "execution_count": 12,
   "metadata": {
    "scrolled": true
   },
   "outputs": [],
   "source": [
    "class Softmax(gluon.HybridBlock):\n",
    "    def __init__(self, **kwargs):\n",
    "        super(Softmax, self).__init__(**kwargs)\n",
    "\n",
    "    def hybrid_forward(self, F, x):\n",
    "        return F.softmax(x, axis=-1)\n",
    "\n",
    "class SVDSoftmax(gluon.HybridBlock):\n",
    "    def __init__(self, svd_decomposition, bias, preview_W=10, full_view_N=100, \n",
    "                 rough_approximation=False, activation=False, **kwargs):\n",
    "        super(SVDSoftmax, self).__init__(**kwargs)\n",
    "        U, Sigma, V_t = svd_decomposition\n",
    "        B = U.dot(np.diag(Sigma))\n",
    "        self.preview_W = preview_W\n",
    "        self.full_view_N = min(full_view_N, B.shape[0])\n",
    "        self.num_features_in = V_t.shape[0]\n",
    "        self.num_classes = B.shape[0]\n",
    "        self.rough_approximation = rough_approximation\n",
    "        self.with_activation = activation\n",
    "        with self.name_scope():\n",
    "            self.B = self.params.get('B',\n",
    "                                      shape=B.shape,\n",
    "                                      init=mx.init.Constant(B.tolist()),\n",
    "                                      differentiable=False)\n",
    "            self.V_t = self.params.get('V_t', \n",
    "                                       shape=V_t.shape, \n",
    "                                       init=mx.init.Constant(V_t.tolist()),\n",
    "                                       differentiable=False)\n",
    "            self.bias = self.params.get('bias', \n",
    "                                        shape=bias.shape, \n",
    "                                        init=mx.init.Constant(bias.tolist()), \n",
    "                                        differentiable=False)\n",
    "\n",
    "    def hybrid_forward(self, F, x, B, V_t, bias):\n",
    "        x_shape = F.shape_array(x)\n",
    "        # now x is strictly 3d... very sad but there is no conditional operation as tf.cond\n",
    "        bs = batch_size\n",
    "        tm = bptt\n",
    "        x_2d = F.reshape(x, shape=(-3, -1))\n",
    "\n",
    "        h = F.FullyConnected(x_2d, weight=V_t, no_bias=True, num_hidden=self.num_features_in, flatten=False)\n",
    "        h_preview = F.slice_axis(h, axis=-1, begin=0, end=self.preview_W)  # h[:, :self.preview_W]\n",
    "        B_preview = F.slice_axis(B, axis=1, begin=0, end=self.preview_W)  # B[:, :self.preview_W]\n",
    "        z_preview = F.FullyConnected(h_preview, weight=B_preview, bias=bias,\n",
    "                                     no_bias=False, num_hidden=self.num_classes, flatten=False)\n",
    "        if self.rough_approximation:\n",
    "            if self.with_activation:\n",
    "                z_preview = F.softmax(z_preview, axis=-1)\n",
    "            return F.reshape(z_preview, shape=(bs, tm, self.num_classes))\n",
    "        \n",
    "        best_indices = F.topk(z_preview, axis=-1, ret_typ='indices', k=self.full_view_N)\n",
    "        \n",
    "        # F.gather_nd(B, best_indices[i]) == B[best_indices[i], :]\n",
    "        best_logits = [\n",
    "            F.dot(F.gather_nd(B, best_indices[i].reshape((1,-1))), h[i]) + bias[best_indices[i]]\n",
    "            for i in range(bs * tm)\n",
    "        ]\n",
    "        \n",
    "        z = z_preview\n",
    "        for i in range(bs * tm):\n",
    "            z[i, best_indices[i]] = best_logits[i]\n",
    "        if self.with_activation:\n",
    "            z = F.softmax(z, axis=-1)\n",
    "        return F.reshape(z, shape=(bs, tm, self.num_classes))"
   ]
  },
  {
   "cell_type": "code",
   "execution_count": 15,
   "metadata": {},
   "outputs": [
    {
     "name": "stdout",
     "output_type": "stream",
     "text": [
      " loss: 5.34, ppl: 208.83 time: 0.0001341\n",
      "CPU times: user 17.5 s, sys: 1.16 s, total: 18.7 s\n",
      "Wall time: 15.1 s\n"
     ]
    }
   ],
   "source": [
    "%%time\n",
    "model.decoder = original_decoder\n",
    "model.decoder = create_decoder(model, preview_W=25, full_view_N=3200, rough_approximation=True)\n",
    "model.hybridize(active=False)\n",
    "evaluate_and_log(model, test_data, batch_size, context, loss=loss)"
   ]
  },
  {
   "cell_type": "code",
   "execution_count": 16,
   "metadata": {},
   "outputs": [
    {
     "name": "stdout",
     "output_type": "stream",
     "text": [
      " loss: 4.63, ppl: 102.45 time: 0.0028786\n",
      "CPU times: user 1min 50s, sys: 37.3 s, total: 2min 27s\n",
      "Wall time: 1min 54s\n"
     ]
    }
   ],
   "source": [
    "%%time\n",
    "model.decoder = original_decoder\n",
    "model.decoder = create_decoder(model, preview_W=25, full_view_N=3200, rough_approximation=False)\n",
    "model.hybridize(active=False)\n",
    "evaluate_and_log(model, test_data, batch_size, context, loss=loss)"
   ]
  },
  {
   "cell_type": "code",
   "execution_count": null,
   "metadata": {},
   "outputs": [],
   "source": []
  },
  {
   "cell_type": "code",
   "execution_count": null,
   "metadata": {},
   "outputs": [],
   "source": []
  },
  {
   "cell_type": "code",
   "execution_count": 23,
   "metadata": {},
   "outputs": [
    {
     "data": {
      "image/png": "[encoded data removed]",
      "text/plain": [
       "<Figure size 1080x360 with 1 Axes>"
      ]
     },
     "metadata": {
      "needs_background": "light"
     },
     "output_type": "display_data"
    }
   ],
   "source": [
    "plt.figure(figsize=(15,5))\n",
    "for model_name, model in models.items():\n",
    "    svd, b = get_last_layer_svd_and_b(model)\n",
    "    s = svd[1]\n",
    "    plt.plot(s, label=model_name)\n",
    "plt.xlabel(f\"number of singular value\", fontsize=16)\n",
    "plt.ylabel(f\"singular value\", fontsize=16)\n",
    "plt.title(f\"Singular values of weight matrix\", fontsize=20)\n",
    "plt.legend()\n",
    "plt.show()"
   ]
  },
  {
   "cell_type": "code",
   "execution_count": 12,
   "metadata": {},
   "outputs": [],
   "source": [
    "model.decoder = original_decoder"
   ]
  },
  {
   "cell_type": "code",
   "execution_count": 112,
   "metadata": {},
   "outputs": [
    {
     "name": "stdout",
     "output_type": "stream",
     "text": [
      " loss: 4.62, ppl: 102.00 time: 0.0006514\n",
      "CPU times: user 9.69 s, sys: 450 ms, total: 10.1 s\n",
      "Wall time: 8.04 s\n"
     ]
    }
   ],
   "source": [
    "%%time\n",
    "model.decoder = original_decoder\n",
    "model.decoder = with_sm_decoder(model)\n",
    "sm_original_decoder = model.decoder\n",
    "model.hybridize(active=False)\n",
    "evaluate_and_log(model, test_data, batch_size, context, loss=CELoss())"
   ]
  },
  {
   "cell_type": "code",
   "execution_count": 55,
   "metadata": {},
   "outputs": [],
   "source": [
    "import tqdm"
   ]
  },
  {
   "cell_type": "code",
   "execution_count": 158,
   "metadata": {},
   "outputs": [
    {
     "name": "stderr",
     "output_type": "stream",
     "text": [
      "  9%|▉         | 1/11 [00:09<01:34,  9.49s/it]"
     ]
    },
    {
     "name": "stdout",
     "output_type": "stream",
     "text": [
      " loss: 0.00, ppl: 1.00 time: 0.0002332\n"
     ]
    },
    {
     "name": "stderr",
     "output_type": "stream",
     "text": [
      "\r",
      " 18%|█▊        | 2/11 [00:21<01:33, 10.33s/it]"
     ]
    },
    {
     "name": "stdout",
     "output_type": "stream",
     "text": [
      " loss: 0.00, ppl: 1.00 time: 0.0003122\n"
     ]
    },
    {
     "name": "stderr",
     "output_type": "stream",
     "text": [
      "\r",
      " 27%|██▋       | 3/11 [00:32<01:22, 10.37s/it]"
     ]
    },
    {
     "name": "stdout",
     "output_type": "stream",
     "text": [
      " loss: 0.00, ppl: 1.00 time: 0.0002516\n"
     ]
    },
    {
     "name": "stderr",
     "output_type": "stream",
     "text": [
      "\r",
      " 36%|███▋      | 4/11 [00:41<01:10, 10.05s/it]"
     ]
    },
    {
     "name": "stdout",
     "output_type": "stream",
     "text": [
      " loss: 0.00, ppl: 1.00 time: 0.0002196\n"
     ]
    },
    {
     "name": "stderr",
     "output_type": "stream",
     "text": [
      "\r",
      " 45%|████▌     | 5/11 [00:51<00:59,  9.88s/it]"
     ]
    },
    {
     "name": "stdout",
     "output_type": "stream",
     "text": [
      " loss: 0.00, ppl: 1.00 time: 0.0002282\n"
     ]
    },
    {
     "name": "stderr",
     "output_type": "stream",
     "text": [
      "\r",
      " 55%|█████▍    | 6/11 [01:00<00:49,  9.84s/it]"
     ]
    },
    {
     "name": "stdout",
     "output_type": "stream",
     "text": [
      " loss: 0.00, ppl: 1.00 time: 0.0002352\n"
     ]
    },
    {
     "name": "stderr",
     "output_type": "stream",
     "text": [
      "\r",
      " 64%|██████▎   | 7/11 [01:13<00:42, 10.70s/it]"
     ]
    },
    {
     "name": "stdout",
     "output_type": "stream",
     "text": [
      " loss: 0.00, ppl: 1.00 time: 0.0003196\n"
     ]
    },
    {
     "name": "stderr",
     "output_type": "stream",
     "text": [
      "\r",
      " 73%|███████▎  | 8/11 [01:22<00:30, 10.32s/it]"
     ]
    },
    {
     "name": "stdout",
     "output_type": "stream",
     "text": [
      " loss: 0.00, ppl: 1.00 time: 0.0002342\n"
     ]
    },
    {
     "name": "stderr",
     "output_type": "stream",
     "text": [
      "\r",
      " 82%|████████▏ | 9/11 [01:32<00:20, 10.20s/it]"
     ]
    },
    {
     "name": "stdout",
     "output_type": "stream",
     "text": [
      " loss: 0.00, ppl: 1.00 time: 0.0002462\n"
     ]
    },
    {
     "name": "stderr",
     "output_type": "stream",
     "text": [
      "\r",
      " 91%|█████████ | 10/11 [01:43<00:10, 10.26s/it]"
     ]
    },
    {
     "name": "stdout",
     "output_type": "stream",
     "text": [
      " loss: 0.00, ppl: 1.00 time: 0.0002509\n"
     ]
    },
    {
     "name": "stderr",
     "output_type": "stream",
     "text": [
      "\r",
      "100%|██████████| 11/11 [01:54<00:00, 10.64s/it]"
     ]
    },
    {
     "name": "stdout",
     "output_type": "stream",
     "text": [
      " loss: 0.00, ppl: 1.00 time: 0.0002840\n",
      "CPU times: user 3min 40s, sys: 9.1 s, total: 3min 49s\n",
      "Wall time: 1min 54s\n"
     ]
    },
    {
     "name": "stderr",
     "output_type": "stream",
     "text": [
      "\n"
     ]
    }
   ],
   "source": [
    "%%time\n",
    "ts, ls = [], []\n",
    "full_view_N = 32\n",
    "preview_Ws = [1, 5, 10, 15, 30, 50, 70, 100, 120, 150, 200]\n",
    "for preview_W in tqdm.tqdm(preview_Ws):\n",
    "    model.decoder = original_decoder\n",
    "    model.decoder = create_decoder(model, preview_W=preview_W, full_view_N=full_view_N, return_full=False)\n",
    "    model.hybridize(active=False)\n",
    "#     l, t = evaluate_and_log(model, test_data, batch_size, context, loss=CELoss())\n",
    "    l, t = evaluate_and_log(model, test_data, batch_size, context, loss=None)\n",
    "    \n",
    "#     model.decoder = original_decoder\n",
    "#     model.decoder = create_decoder(model, preview_W=preview_W, full_view_N=full_view_N, return_full=False)\n",
    "#     _, t = evaluate_and_log(model, test_data, batch_size, context, loss=None)\n",
    "    \n",
    "    ls.append(l)\n",
    "    ts.append(t)"
   ]
  },
  {
   "cell_type": "code",
   "execution_count": 114,
   "metadata": {},
   "outputs": [
    {
     "data": {
      "text/plain": [
       "Text(0.5, 1.0, 'Loss for N=3200')"
      ]
     },
     "execution_count": 114,
     "metadata": {},
     "output_type": "execute_result"
    },
    {
     "data": {
      "image/png": "[encoded data removed]",
      "text/plain": [
       "<Figure size 720x360 with 1 Axes>"
      ]
     },
     "metadata": {
      "needs_background": "light"
     },
     "output_type": "display_data"
    }
   ],
   "source": [
    "plt.figure(figsize=(10,5))\n",
    "plt.plot(preview_Ws, ls, label=\"SVD-softmax\")\n",
    "plt.axhline(y=4.62, color='red', label=\"softmax\")\n",
    "plt.xlabel(\"preview window size (out of 200)\", fontsize=16)\n",
    "plt.ylabel(\"loss (log perplexity)\", fontsize=16)\n",
    "plt.legend()\n",
    "plt.title(\"Loss for N=3200\", fontsize=20)"
   ]
  },
  {
   "cell_type": "code",
   "execution_count": 159,
   "metadata": {},
   "outputs": [
    {
     "data": {
      "text/plain": [
       "Text(0.5, 1.0, 'Token prediction time')"
      ]
     },
     "execution_count": 159,
     "metadata": {},
     "output_type": "execute_result"
    },
    {
     "data": {
      "image/png": "[encoded data removed]",
      "text/plain": [
       "<Figure size 720x360 with 1 Axes>"
      ]
     },
     "metadata": {
      "needs_background": "light"
     },
     "output_type": "display_data"
    }
   ],
   "source": [
    "plt.figure(figsize=(10,5))\n",
    "plt.plot(preview_Ws, ts, label=\"SVD-softmax\")\n",
    "plt.axhline(y=0.0006145, color='red', label=\"softmax\")\n",
    "plt.xlabel(\"preview window size (out of 200)\", fontsize=16)\n",
    "plt.ylabel(\"time\", fontsize=16)\n",
    "plt.legend()\n",
    "plt.title(\"Token prediction time\", fontsize=20)"
   ]
  },
  {
   "cell_type": "code",
   "execution_count": 73,
   "metadata": {},
   "outputs": [
    {
     "data": {
      "text/plain": [
       "Text(0.5, 1.0, 'Token prediction time')"
      ]
     },
     "execution_count": 73,
     "metadata": {},
     "output_type": "execute_result"
    },
    {
     "data": {
      "image/png": "[encoded data removed]",
      "text/plain": [
       "<Figure size 720x360 with 1 Axes>"
      ]
     },
     "metadata": {
      "needs_background": "light"
     },
     "output_type": "display_data"
    }
   ],
   "source": [
    "plt.figure(figsize=(10,5))\n",
    "plt.plot(preview_Ws, ts, label=\"SVD-softmax\")\n",
    "plt.axhline(y=0.0006145, color='red', label=\"softmax\")\n",
    "plt.xlabel(\"preview window size (out of 200)\", fontsize=16)\n",
    "plt.ylabel(\"time\", fontsize=16)\n",
    "plt.legend()\n",
    "plt.title(\"Token prediction time\", fontsize=20)"
   ]
  },
  {
   "cell_type": "code",
   "execution_count": null,
   "metadata": {},
   "outputs": [],
   "source": []
  },
  {
   "cell_type": "code",
   "execution_count": 13,
   "metadata": {},
   "outputs": [
    {
     "name": "stdout",
     "output_type": "stream",
     "text": [
      "preview_W=40 loss: 0.23, ppl: 1.26 time: 0.0002311\n"
     ]
    }
   ],
   "source": [
    "for preview_W in [40]:\n",
    "    model.decoder = create_decoder(model, preview_W=preview_W, full_view_N=1200, return_full=True)\n",
    "    evaluate_and_log(model, test_data, batch_size, context, loss=CELoss(), \n",
    "                     prefix=f\"preview_W={preview_W}\")"
   ]
  },
  {
   "cell_type": "code",
   "execution_count": 20,
   "metadata": {},
   "outputs": [
    {
     "data": {
      "text/plain": [
       "\n",
       "[-0.22439866  1.1350918  -0.42312792  0.73314893  0.55008185]\n",
       "<NDArray 5 @cpu(0)>"
      ]
     },
     "execution_count": 20,
     "metadata": {},
     "output_type": "execute_result"
    }
   ],
   "source": [
    "model.collect_params()['standardrnn0_hybridsequential0_embedding0_weight'].data()[:5, 0]"
   ]
  },
  {
   "cell_type": "code",
   "execution_count": 22,
   "metadata": {},
   "outputs": [
    {
     "data": {
      "text/plain": [
       "array([-0.22439845,  1.1350923 , -0.4231277 ,  0.73314893,  0.55008185],\n",
       "      dtype=float32)"
      ]
     },
     "execution_count": 22,
     "metadata": {},
     "output_type": "execute_result"
    }
   ],
   "source": [
    "(model.collect_params()['svdsoftmax9_B'].data().asnumpy() @ model.collect_params()['svdsoftmax9_V_t'].data().asnumpy())[:5, 0]"
   ]
  },
  {
   "cell_type": "code",
   "execution_count": null,
   "metadata": {},
   "outputs": [],
   "source": []
  },
  {
   "cell_type": "code",
   "execution_count": null,
   "metadata": {},
   "outputs": [],
   "source": []
  },
  {
   "cell_type": "code",
   "execution_count": null,
   "metadata": {},
   "outputs": [],
   "source": []
  },
  {
   "cell_type": "code",
   "execution_count": null,
   "metadata": {},
   "outputs": [],
   "source": []
  },
  {
   "cell_type": "code",
   "execution_count": null,
   "metadata": {},
   "outputs": [],
   "source": []
  },
  {
   "cell_type": "code",
   "execution_count": 32,
   "metadata": {},
   "outputs": [],
   "source": [
    "def train(model, train_data, val_data, test_data, epochs, lr):\n",
    "    best_val = float(\"Inf\")\n",
    "    start_train_time = time.time()\n",
    "    parameters = model.collect_params().values()\n",
    "    for epoch in range(epochs):\n",
    "        total_L = 0.0\n",
    "        start_epoch_time = time.time()\n",
    "        start_log_interval_time = time.time()\n",
    "        hiddens = [model.begin_state(batch_size//len(context), func=mx.nd.zeros, ctx=ctx)\n",
    "                   for ctx in context]\n",
    "        for i, (data, target) in enumerate(train_data):\n",
    "            data_list = gluon.utils.split_and_load(data, context,\n",
    "                                                   batch_axis=1, even_split=True)\n",
    "            target_list = gluon.utils.split_and_load(target, context,\n",
    "                                                     batch_axis=1, even_split=True)\n",
    "            hiddens = detach(hiddens)\n",
    "            L = 0\n",
    "            Ls = []\n",
    "            with autograd.record():\n",
    "                for j, (X, y, h) in enumerate(zip(data_list, target_list, hiddens)):\n",
    "                    output, h = model(X, h)\n",
    "                    batch_L = loss(output.reshape(-3, -1), y.reshape(-1,))\n",
    "                    L = L + batch_L.as_in_context(context[0]) / (len(context) * X.size)\n",
    "                    Ls.append(batch_L / (len(context) * X.size))\n",
    "                    hiddens[j] = h\n",
    "            L.backward()\n",
    "            grads = [p.grad(x.context) for p in parameters for x in data_list]\n",
    "            gluon.utils.clip_global_norm(grads, grad_clip)\n",
    "\n",
    "            trainer.step(1)\n",
    "\n",
    "            total_L += sum([mx.nd.sum(l).asscalar() for l in Ls])\n",
    "\n",
    "            if i % log_interval == 0 and i > 0:\n",
    "                cur_L = total_L / log_interval\n",
    "                print('[Epoch %d Batch %d/%d] loss %.2f, ppl %.2f, '\n",
    "                      'throughput %.2f samples/s'%(\n",
    "                    epoch, i, len(train_data), cur_L, math.exp(cur_L),\n",
    "                    batch_size * log_interval / (time.time() - start_log_interval_time)))\n",
    "                total_L = 0.0\n",
    "                start_log_interval_time = time.time()\n",
    "\n",
    "        mx.nd.waitall()\n",
    "\n",
    "        print('[Epoch %d] throughput %.2f samples/s'%(\n",
    "                    epoch, len(train_data)*batch_size / (time.time() - start_epoch_time)))\n",
    "        val_L, val_time = evaluate(model, val_data, batch_size, context[0])\n",
    "        print('[Epoch %d] time cost %.2fs, valid loss %.2f, valid ppl %.2f'%(\n",
    "            epoch, time.time()-start_epoch_time, val_L, math.exp(val_L)))\n",
    "\n",
    "        if val_L < best_val:\n",
    "            best_val = val_L\n",
    "            test_L, test_time = evaluate(model, test_data, batch_size, context[0])\n",
    "            model.save_parameters('{}_{}-{}.params'.format(model_name, dataset_name, epoch))\n",
    "            print('test loss %.2f, test ppl %.2f, test time %.2f'%(\n",
    "                test_L, math.exp(test_L), test_time))\n",
    "        else:\n",
    "            lr = lr*0.25\n",
    "            print('Learning rate now %f'%(lr))\n",
    "            trainer.set_learning_rate(lr)\n",
    "\n",
    "    print('Total training throughput %.2f samples/s'%(\n",
    "                            (batch_size * len(train_data) * epochs) /\n",
    "                            (time.time() - start_train_time)))"
   ]
  },
  {
   "cell_type": "code",
   "execution_count": 7,
   "metadata": {},
   "outputs": [
    {
     "name": "stdout",
     "output_type": "stream",
     "text": [
      "[Epoch 0 Batch 200/2983] loss 7.66, ppl 2129.11, throughput 281.65 samples/s\n",
      "[Epoch 0 Batch 400/2983] loss 6.75, ppl 853.92, throughput 286.11 samples/s\n",
      "[Epoch 0 Batch 600/2983] loss 6.34, ppl 568.07, throughput 286.57 samples/s\n",
      "[Epoch 0 Batch 800/2983] loss 6.18, ppl 483.26, throughput 286.67 samples/s\n",
      "[Epoch 0 Batch 1000/2983] loss 6.05, ppl 422.96, throughput 286.33 samples/s\n",
      "[Epoch 0 Batch 1200/2983] loss 5.97, ppl 391.82, throughput 286.72 samples/s\n",
      "[Epoch 0 Batch 1400/2983] loss 5.87, ppl 352.51, throughput 286.17 samples/s\n",
      "[Epoch 0 Batch 1600/2983] loss 5.86, ppl 351.89, throughput 286.47 samples/s\n",
      "[Epoch 0 Batch 1800/2983] loss 5.70, ppl 299.67, throughput 286.51 samples/s\n",
      "[Epoch 0 Batch 2000/2983] loss 5.67, ppl 289.43, throughput 286.45 samples/s\n",
      "[Epoch 0 Batch 2200/2983] loss 5.57, ppl 261.92, throughput 283.67 samples/s\n",
      "[Epoch 0 Batch 2400/2983] loss 5.58, ppl 264.64, throughput 287.07 samples/s\n",
      "[Epoch 0 Batch 2600/2983] loss 5.56, ppl 259.61, throughput 286.79 samples/s\n",
      "[Epoch 0 Batch 2800/2983] loss 5.45, ppl 233.80, throughput 286.83 samples/s\n",
      "[Epoch 0] throughput 286.10 samples/s\n",
      "[Epoch 0] time cost 220.27s, valid loss 5.43, valid ppl 229.27\n",
      "test loss 5.35, test ppl 209.76\n",
      "[Epoch 1 Batch 200/2983] loss 5.46, ppl 235.52, throughput 285.73 samples/s\n",
      "[Epoch 1 Batch 400/2983] loss 5.45, ppl 231.90, throughput 285.68 samples/s\n",
      "[Epoch 1 Batch 600/2983] loss 5.28, ppl 196.60, throughput 286.16 samples/s\n",
      "[Epoch 1 Batch 800/2983] loss 5.30, ppl 200.04, throughput 285.95 samples/s\n",
      "[Epoch 1 Batch 1000/2983] loss 5.27, ppl 193.67, throughput 286.28 samples/s\n",
      "[Epoch 1 Batch 1200/2983] loss 5.26, ppl 192.25, throughput 287.54 samples/s\n",
      "[Epoch 1 Batch 1400/2983] loss 5.26, ppl 193.11, throughput 287.19 samples/s\n",
      "[Epoch 1 Batch 1600/2983] loss 5.32, ppl 204.93, throughput 287.07 samples/s\n",
      "[Epoch 1 Batch 1800/2983] loss 5.19, ppl 178.72, throughput 286.75 samples/s\n",
      "[Epoch 1 Batch 2000/2983] loss 5.20, ppl 181.86, throughput 286.25 samples/s\n",
      "[Epoch 1 Batch 2200/2983] loss 5.12, ppl 166.78, throughput 286.62 samples/s\n",
      "[Epoch 1 Batch 2400/2983] loss 5.15, ppl 171.82, throughput 286.76 samples/s\n",
      "[Epoch 1 Batch 2600/2983] loss 5.16, ppl 174.33, throughput 286.38 samples/s\n",
      "[Epoch 1 Batch 2800/2983] loss 5.08, ppl 160.75, throughput 285.96 samples/s\n",
      "[Epoch 1] throughput 286.54 samples/s\n",
      "[Epoch 1] time cost 219.95s, valid loss 5.18, valid ppl 178.26\n",
      "test loss 5.11, test ppl 164.85\n",
      "[Epoch 2 Batch 200/2983] loss 5.13, ppl 169.59, throughput 285.19 samples/s\n",
      "[Epoch 2 Batch 400/2983] loss 5.15, ppl 172.81, throughput 285.91 samples/s\n",
      "[Epoch 2 Batch 600/2983] loss 4.98, ppl 145.79, throughput 286.02 samples/s\n",
      "[Epoch 2 Batch 800/2983] loss 5.03, ppl 152.64, throughput 285.52 samples/s\n",
      "[Epoch 2 Batch 1000/2983] loss 5.01, ppl 150.53, throughput 286.92 samples/s\n",
      "[Epoch 2 Batch 1200/2983] loss 5.02, ppl 150.96, throughput 286.73 samples/s\n",
      "[Epoch 2 Batch 1400/2983] loss 5.04, ppl 154.39, throughput 286.80 samples/s\n",
      "[Epoch 2 Batch 1600/2983] loss 5.12, ppl 166.87, throughput 287.14 samples/s\n",
      "[Epoch 2 Batch 1800/2983] loss 4.98, ppl 145.72, throughput 286.81 samples/s\n",
      "[Epoch 2 Batch 2000/2983] loss 5.01, ppl 150.14, throughput 286.90 samples/s\n",
      "[Epoch 2 Batch 2200/2983] loss 4.92, ppl 137.60, throughput 286.56 samples/s\n",
      "[Epoch 2 Batch 2400/2983] loss 4.96, ppl 142.19, throughput 285.76 samples/s\n",
      "[Epoch 2 Batch 2600/2983] loss 4.98, ppl 145.89, throughput 286.74 samples/s\n",
      "[Epoch 2 Batch 2800/2983] loss 4.91, ppl 134.98, throughput 286.45 samples/s\n",
      "[Epoch 2] throughput 286.46 samples/s\n",
      "[Epoch 2] time cost 219.99s, valid loss 5.07, valid ppl 158.99\n",
      "test loss 5.00, test ppl 147.81\n",
      "Total training throughput 255.53 samples/s\n"
     ]
    }
   ],
   "source": [
    "train(model, train_data, val_data, test_data, epochs, lr)"
   ]
  },
  {
   "cell_type": "code",
   "execution_count": null,
   "metadata": {},
   "outputs": [],
   "source": []
  }
 ],
 "metadata": {
  "kernelspec": {
   "display_name": "Python 3",
   "language": "python",
   "name": "python3"
  },
  "language_info": {
   "codemirror_mode": {
    "name": "ipython",
    "version": 3
   },
   "file_extension": ".py",
   "mimetype": "text/x-python",
   "name": "python",
   "nbconvert_exporter": "python",
   "pygments_lexer": "ipython3",
   "version": "3.6.7"
  }
 },
 "nbformat": 4,
 "nbformat_minor": 2
}
