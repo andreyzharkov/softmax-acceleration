{
 "cells": [
  {
   "cell_type": "markdown",
   "metadata": {},
   "source": [
    "# Softmax fast approximations\n",
    "\n",
    "Короче, выбрал этот странный mxnet т.к. там 1)очень простая предобработка (причем она есть для всех датасетов, стоит только поменять dataset_name) и 2)есть предобученные языковые модели на этих датасетах, так что можно не тратить время на обучение вообще - никаких gpu не надо\n",
    "\n",
    "По сути тут все операции как в numpy (вместо np пиши nd и все)\n",
    "\n",
    "Про gluonnlp & mxnet за 5 минут https://beta.mxnet.io/guide/crash-course/index.html"
   ]
  },
  {
   "cell_type": "code",
   "execution_count": 1,
   "metadata": {},
   "outputs": [],
   "source": [
    "import warnings\n",
    "warnings.filterwarnings('ignore')\n",
    "\n",
    "import glob\n",
    "import time\n",
    "import math\n",
    "\n",
    "import mxnet as mx\n",
    "from mxnet import gluon, autograd\n",
    "from mxnet.gluon.utils import download\n",
    "from mxnet import ndarray as nd\n",
    "\n",
    "import gluonnlp as nlp\n",
    "import numpy as np\n",
    "\n",
    "import matplotlib.pyplot as plt\n",
    "%matplotlib inline"
   ]
  },
  {
   "cell_type": "code",
   "execution_count": 2,
   "metadata": {},
   "outputs": [],
   "source": [
    "num_gpus = 0\n",
    "context = [mx.gpu(i) for i in range(num_gpus)] if num_gpus else mx.cpu()\n",
    "log_interval = 200"
   ]
  },
  {
   "cell_type": "code",
   "execution_count": 3,
   "metadata": {},
   "outputs": [],
   "source": [
    "batch_size = 20 #* len(context)\n",
    "lr = 20\n",
    "epochs = 3\n",
    "bptt = 35\n",
    "grad_clip = 0.25"
   ]
  },
  {
   "cell_type": "code",
   "execution_count": 4,
   "metadata": {},
   "outputs": [],
   "source": [
    "dataset_name = 'wikitext-2'\n",
    "train_dataset, val_dataset, test_dataset = [\n",
    "    nlp.data.WikiText2(\n",
    "        segment=segment, bos=None, eos='<eos>', skip_empty=False)\n",
    "    for segment in ['train', 'val', 'test']\n",
    "]\n",
    "\n",
    "vocab = nlp.Vocab(\n",
    "    nlp.data.Counter(train_dataset), padding_token=None, bos_token=None)\n",
    "\n",
    "bptt_batchify = nlp.data.batchify.CorpusBPTTBatchify(\n",
    "    vocab, bptt, batch_size, last_batch='discard')\n",
    "train_data, val_data, test_data = [\n",
    "    bptt_batchify(x) for x in [train_dataset, val_dataset, test_dataset]\n",
    "]"
   ]
  },
  {
   "cell_type": "code",
   "execution_count": 5,
   "metadata": {},
   "outputs": [],
   "source": [
    "model_names = [\n",
    "    'awd_lstm_lm_1150',\n",
    "    'awd_lstm_lm_600',\n",
    "    'standard_lstm_lm_1500',\n",
    "    'standard_lstm_lm_650',\n",
    "    'standard_lstm_lm_200',\n",
    "#     'elmo_2x4096_512_2048cnn_2xhighway'\n",
    "]\n",
    "# model_name = 'standard_lstm_lm_200'\n",
    "# model, vocab = nlp.model.get_model(model_name, vocab=vocab, \n",
    "#                                    dataset_name=dataset_name, pretrained=True, \n",
    "#                                    ctx=context)\n",
    "# original_decoder = model.decoder\n",
    "# print(model)\n",
    "# print(vocab)\n",
    "models = dict((name, nlp.model.get_model(name, vocab=vocab, \n",
    "                                         dataset_name=dataset_name, pretrained=True, \n",
    "                                         ctx=context)[0]) for name in model_names)\n",
    "\n",
    "# model.initialize(mx.init.Xavier(), ctx=context)\n",
    "\n",
    "# trainer = gluon.Trainer(model.collect_params(), 'sgd', {\n",
    "#     'learning_rate': lr,\n",
    "#     'momentum': 0,\n",
    "#     'wd': 0\n",
    "# })\n",
    "loss = gluon.loss.SoftmaxCrossEntropyLoss()"
   ]
  },
  {
   "cell_type": "code",
   "execution_count": 6,
   "metadata": {},
   "outputs": [
    {
     "name": "stdout",
     "output_type": "stream",
     "text": [
      "awd_lstm_lm_1150\n",
      "AWDRNN(\n",
      "  (embedding): HybridSequential(\n",
      "    (0): Embedding(33278 -> 400, float32)\n",
      "    (1): Dropout(p = 0.65, axes=(0,))\n",
      "  )\n",
      "  (encoder): Sequential(\n",
      "    (0): LSTM(400 -> 1150, TNC)\n",
      "    (1): LSTM(1150 -> 1150, TNC)\n",
      "    (2): LSTM(1150 -> 400, TNC)\n",
      "  )\n",
      "  (decoder): HybridSequential(\n",
      "    (0): Dense(400 -> 33278, linear)\n",
      "  )\n",
      ")\n",
      "odict_keys(['awdrnn0_hybridsequential0_embedding0_weight', 'awdrnn0_sequential0_lstm0_l0_i2h_weight', 'awdrnn0_sequential0_lstm0_l0_h2h_weight', 'awdrnn0_sequential0_lstm0_l0_i2h_bias', 'awdrnn0_sequential0_lstm0_l0_h2h_bias', 'awdrnn0_sequential0_lstm1_l0_i2h_weight', 'awdrnn0_sequential0_lstm1_l0_h2h_weight', 'awdrnn0_sequential0_lstm1_l0_i2h_bias', 'awdrnn0_sequential0_lstm1_l0_h2h_bias', 'awdrnn0_sequential0_lstm2_l0_i2h_weight', 'awdrnn0_sequential0_lstm2_l0_h2h_weight', 'awdrnn0_sequential0_lstm2_l0_i2h_bias', 'awdrnn0_sequential0_lstm2_l0_h2h_bias', 'awdrnn0_hybridsequential0_embedding0_bias'])\n",
      "\n",
      "awd_lstm_lm_600\n",
      "AWDRNN(\n",
      "  (embedding): HybridSequential(\n",
      "    (0): Embedding(33278 -> 200, float32)\n",
      "    (1): Dropout(p = 0.3, axes=(0,))\n",
      "  )\n",
      "  (encoder): Sequential(\n",
      "    (0): LSTM(200 -> 600, TNC)\n",
      "    (1): LSTM(600 -> 600, TNC)\n",
      "    (2): LSTM(600 -> 200, TNC)\n",
      "  )\n",
      "  (decoder): HybridSequential(\n",
      "    (0): Dense(200 -> 33278, linear)\n",
      "  )\n",
      ")\n",
      "odict_keys(['awdrnn1_hybridsequential0_embedding0_weight', 'awdrnn1_sequential0_lstm0_l0_i2h_weight', 'awdrnn1_sequential0_lstm0_l0_h2h_weight', 'awdrnn1_sequential0_lstm0_l0_i2h_bias', 'awdrnn1_sequential0_lstm0_l0_h2h_bias', 'awdrnn1_sequential0_lstm1_l0_i2h_weight', 'awdrnn1_sequential0_lstm1_l0_h2h_weight', 'awdrnn1_sequential0_lstm1_l0_i2h_bias', 'awdrnn1_sequential0_lstm1_l0_h2h_bias', 'awdrnn1_sequential0_lstm2_l0_i2h_weight', 'awdrnn1_sequential0_lstm2_l0_h2h_weight', 'awdrnn1_sequential0_lstm2_l0_i2h_bias', 'awdrnn1_sequential0_lstm2_l0_h2h_bias', 'awdrnn1_hybridsequential0_embedding0_bias'])\n",
      "\n",
      "standard_lstm_lm_1500\n",
      "StandardRNN(\n",
      "  (embedding): HybridSequential(\n",
      "    (0): Embedding(33278 -> 1500, float32)\n",
      "    (1): Dropout(p = 0.65, axes=())\n",
      "  )\n",
      "  (encoder): LSTM(1500 -> 1500, TNC, num_layers=2, dropout=0.65)\n",
      "  (decoder): HybridSequential(\n",
      "    (0): Dense(1500 -> 33278, linear)\n",
      "  )\n",
      ")\n",
      "odict_keys(['standardrnn0_hybridsequential0_embedding0_weight', 'standardrnn0_lstm0_l0_i2h_weight', 'standardrnn0_lstm0_l0_h2h_weight', 'standardrnn0_lstm0_l0_i2h_bias', 'standardrnn0_lstm0_l0_h2h_bias', 'standardrnn0_lstm0_l1_i2h_weight', 'standardrnn0_lstm0_l1_h2h_weight', 'standardrnn0_lstm0_l1_i2h_bias', 'standardrnn0_lstm0_l1_h2h_bias', 'standardrnn0_hybridsequential0_embedding0_bias'])\n",
      "\n",
      "standard_lstm_lm_650\n",
      "StandardRNN(\n",
      "  (embedding): HybridSequential(\n",
      "    (0): Embedding(33278 -> 650, float32)\n",
      "    (1): Dropout(p = 0.5, axes=())\n",
      "  )\n",
      "  (encoder): LSTM(650 -> 650, TNC, num_layers=2, dropout=0.5)\n",
      "  (decoder): HybridSequential(\n",
      "    (0): Dense(650 -> 33278, linear)\n",
      "  )\n",
      ")\n",
      "odict_keys(['standardrnn1_hybridsequential0_embedding0_weight', 'standardrnn1_lstm0_l0_i2h_weight', 'standardrnn1_lstm0_l0_h2h_weight', 'standardrnn1_lstm0_l0_i2h_bias', 'standardrnn1_lstm0_l0_h2h_bias', 'standardrnn1_lstm0_l1_i2h_weight', 'standardrnn1_lstm0_l1_h2h_weight', 'standardrnn1_lstm0_l1_i2h_bias', 'standardrnn1_lstm0_l1_h2h_bias', 'standardrnn1_hybridsequential0_embedding0_bias'])\n",
      "\n",
      "standard_lstm_lm_200\n",
      "StandardRNN(\n",
      "  (embedding): HybridSequential(\n",
      "    (0): Embedding(33278 -> 200, float32)\n",
      "    (1): Dropout(p = 0.2, axes=())\n",
      "  )\n",
      "  (encoder): LSTM(200 -> 200, TNC, num_layers=2, dropout=0.2)\n",
      "  (decoder): HybridSequential(\n",
      "    (0): Dense(200 -> 33278, linear)\n",
      "  )\n",
      ")\n",
      "odict_keys(['standardrnn2_hybridsequential0_embedding0_weight', 'standardrnn2_lstm0_l0_i2h_weight', 'standardrnn2_lstm0_l0_h2h_weight', 'standardrnn2_lstm0_l0_i2h_bias', 'standardrnn2_lstm0_l0_h2h_bias', 'standardrnn2_lstm0_l1_i2h_weight', 'standardrnn2_lstm0_l1_h2h_weight', 'standardrnn2_lstm0_l1_i2h_bias', 'standardrnn2_lstm0_l1_h2h_bias', 'standardrnn2_hybridsequential0_embedding0_bias'])\n",
      "\n"
     ]
    }
   ],
   "source": [
    "for (name, model) in models.items():\n",
    "    print(name)\n",
    "    print(model)\n",
    "    print(model.collect_params().keys())\n",
    "    print()"
   ]
  },
  {
   "cell_type": "code",
   "execution_count": 21,
   "metadata": {},
   "outputs": [],
   "source": [
    "def detach(hidden):\n",
    "    if isinstance(hidden, (tuple, list)):\n",
    "        hidden = [detach(i) for i in hidden]\n",
    "    else:\n",
    "        hidden = hidden.detach()\n",
    "    return hidden\n",
    "\n",
    "def evaluate(model, data_source, batch_size, ctx, loss=loss, max_steps=200//batch_size):\n",
    "    total_L = 0.0\n",
    "    total_time = 0.0\n",
    "    ntotal = 0\n",
    "    hidden = model.begin_state(\n",
    "        batch_size=batch_size, func=mx.nd.zeros, ctx=ctx)\n",
    "    for i, (data, target) in enumerate(data_source):\n",
    "        data = data.as_in_context(ctx)\n",
    "        target = target.as_in_context(ctx)\n",
    "        t_begin = time.time()\n",
    "        output, hidden = model(data, hidden)\n",
    "        output.wait_to_read()\n",
    "        single_t = time.time() - t_begin\n",
    "        hidden = detach(hidden)\n",
    "        if loss is not None and i > 0:\n",
    "            L = loss(output.reshape(-3, -1), target.reshape(-1))\n",
    "            total_L += mx.nd.sum(L).asscalar()\n",
    "        if i > 0:\n",
    "            total_time += single_t\n",
    "            ntotal += target.reshape(-1).size\n",
    "        if i > max_steps:\n",
    "            break\n",
    "#         print(f'curr loss = {total_L/ntotal:.2f}, '\n",
    "#               'perplexity = {np.exp(total_L/ntotal):.2f}, '\n",
    "#               'time = {total_time/ntotal:.7f}')\n",
    "    return total_L / ntotal, total_time / ntotal\n",
    "\n",
    "def make_report(prefix, L, t):\n",
    "    print(f'{prefix} loss: {L:.2f}, ppl: {np.exp(L):.2f} time: {t:.7f}')\n",
    "    \n",
    "def evaluate_and_log(model, data_source, batch_size, ctx, loss=loss, prefix=\"\"):\n",
    "    avg_L, avg_t = evaluate(model, test_data, batch_size, context, loss=loss)\n",
    "    make_report(prefix, avg_L, avg_t)\n",
    "    return avg_L, avg_t"
   ]
  },
  {
   "cell_type": "code",
   "execution_count": 9,
   "metadata": {},
   "outputs": [],
   "source": [
    "original_decoder = None\n",
    "model = models['standard_lstm_lm_200']"
   ]
  },
  {
   "cell_type": "code",
   "execution_count": 22,
   "metadata": {},
   "outputs": [
    {
     "name": "stdout",
     "output_type": "stream",
     "text": [
      " loss: 4.60, ppl: 99.48 time: 0.0001676\n",
      "CPU times: user 5.26 s, sys: 113 ms, total: 5.37 s\n",
      "Wall time: 3.29 s\n"
     ]
    }
   ],
   "source": [
    "%%time\n",
    "if original_decoder is None:\n",
    "    original_decoder = model.decoder\n",
    "else:\n",
    "    model.decoder = original_decoder\n",
    "model.hybridize(active=False)\n",
    "evaluate_and_log(model, test_data, batch_size, context, loss=loss)"
   ]
  },
  {
   "cell_type": "code",
   "execution_count": 11,
   "metadata": {},
   "outputs": [],
   "source": [
    "class CELoss(gluon.loss.Loss):\n",
    "    def __init__(self, axis=-1, sparse_label=True, from_logits=False, weight=None,\n",
    "                 batch_axis=0, **kwargs):\n",
    "        super(CELoss, self).__init__(weight, batch_axis, **kwargs)\n",
    "        self._axis = axis\n",
    "        self._sparse_label = sparse_label\n",
    "        self._from_logits = from_logits\n",
    "\n",
    "    def hybrid_forward(self, F, pred, label, sample_weight=None):\n",
    "        EPS = 1e-12  # affects loss strongly!!!\n",
    "        log_pred = F.log(F.clip(pred, EPS, 1-EPS))\n",
    "        loss = -F.pick(log_pred, label, axis=self._axis, keepdims=True)\n",
    "        return F.mean(loss, axis=self._batch_axis, exclude=True)"
   ]
  },
  {
   "cell_type": "code",
   "execution_count": 12,
   "metadata": {},
   "outputs": [],
   "source": [
    "def get_last_layer_weight_and_bias(model):\n",
    "    params = model.collect_params()\n",
    "    W_suffix = '_hybridsequential0_embedding0_weight'\n",
    "    b_suffix = '_hybridsequential0_embedding0_bias'\n",
    "    W, b = None, None\n",
    "    for param_key in params.keys():\n",
    "        if param_key.endswith(W_suffix):\n",
    "#             print('reading weight from', param_key)\n",
    "            assert W is None\n",
    "            W = params[param_key].data().asnumpy()\n",
    "        elif param_key.endswith(b_suffix):\n",
    "#             print('reading bias from', param_key)\n",
    "            assert b is None\n",
    "            b = params[param_key].data().asnumpy()\n",
    "    assert W is not None and b is not None, params.keys()\n",
    "    return W, b\n",
    "\n",
    "def get_last_layer_svd_and_b(model):\n",
    "    W, b = get_last_layer_weight_and_bias(model)\n",
    "    U, Sigma, V_t = np.linalg.svd(W, full_matrices=False)\n",
    "    return (U, Sigma, V_t), b\n",
    "\n",
    "def create_decoder(model, preview_W=10, full_view_N=100, rough_approximation=False):\n",
    "    svd_decomposition_W, b = get_last_layer_svd_and_b(model)\n",
    "    \n",
    "    new_decoder = gluon.nn.HybridSequential()\n",
    "    new_decoder.add(\n",
    "        SVDSoftmax(\n",
    "            svd_decomposition_W, b, \n",
    "            preview_W=preview_W, \n",
    "            full_view_N=full_view_N,\n",
    "            rough_approximation=rough_approximation))\n",
    "    new_decoder.initialize()\n",
    "    return new_decoder\n",
    "\n",
    "def with_sm_decoder(model, preview_W=10, full_view_N=100, return_full=False):\n",
    "    svd_decomposition_W, b = get_last_layer_svd_and_b(model)\n",
    "    \n",
    "    new_decoder = gluon.nn.HybridSequential()\n",
    "    new_decoder.add(model.decoder[0])\n",
    "    new_decoder.add(Softmax())\n",
    "    new_decoder.initialize()\n",
    "    return new_decoder"
   ]
  },
  {
   "cell_type": "code",
   "execution_count": 13,
   "metadata": {
    "scrolled": true
   },
   "outputs": [],
   "source": [
    "class Softmax(gluon.HybridBlock):\n",
    "    def __init__(self, **kwargs):\n",
    "        super(Softmax, self).__init__(**kwargs)\n",
    "\n",
    "    def hybrid_forward(self, F, x):\n",
    "        return F.softmax(x, axis=-1)\n",
    "\n",
    "class SVDSoftmax(gluon.HybridBlock):\n",
    "    def __init__(self, svd_decomposition, bias, preview_W=10, full_view_N=100, \n",
    "                 rough_approximation=False, activation=False, **kwargs):\n",
    "        super(SVDSoftmax, self).__init__(**kwargs)\n",
    "        U, Sigma, V_t = svd_decomposition\n",
    "        B = U.dot(np.diag(Sigma))\n",
    "        self.preview_W = preview_W\n",
    "        self.full_view_N = min(full_view_N, B.shape[0])\n",
    "        self.num_features_in = V_t.shape[0]\n",
    "        self.num_classes = B.shape[0]\n",
    "        self.rough_approximation = rough_approximation\n",
    "        self.with_activation = activation\n",
    "        with self.name_scope():\n",
    "            self.B = self.params.get('B',\n",
    "                                      shape=B.shape,\n",
    "                                      init=mx.init.Constant(B.tolist()),\n",
    "                                      differentiable=False)\n",
    "            self.V_t = self.params.get('V_t', \n",
    "                                       shape=V_t.shape, \n",
    "                                       init=mx.init.Constant(V_t.tolist()),\n",
    "                                       differentiable=False)\n",
    "            self.bias = self.params.get('bias', \n",
    "                                        shape=bias.shape, \n",
    "                                        init=mx.init.Constant(bias.tolist()), \n",
    "                                        differentiable=False)\n",
    "\n",
    "    def hybrid_forward(self, F, x, B, V_t, bias):\n",
    "        x_shape = F.shape_array(x)\n",
    "        # now x is strictly 3d... very sad but there is no conditional operation as tf.cond\n",
    "        bs = batch_size\n",
    "        tm = bptt\n",
    "        x_2d = F.reshape(x, shape=(-3, -1))\n",
    "\n",
    "        h = F.FullyConnected(x_2d, weight=V_t, no_bias=True, num_hidden=self.num_features_in, flatten=False)\n",
    "        h_preview = F.slice_axis(h, axis=-1, begin=0, end=self.preview_W)  # h[:, :self.preview_W]\n",
    "        B_preview = F.slice_axis(B, axis=1, begin=0, end=self.preview_W)  # B[:, :self.preview_W]\n",
    "        z_preview = F.FullyConnected(h_preview, weight=B_preview, bias=bias,\n",
    "                                     no_bias=False, num_hidden=self.num_classes, flatten=False)\n",
    "        if self.rough_approximation:\n",
    "            if self.with_activation:\n",
    "                z_preview = F.softmax(z_preview, axis=-1)\n",
    "            return F.reshape(z_preview, shape=(bs, tm, self.num_classes))\n",
    "        \n",
    "        best_indices = F.topk(z_preview, axis=-1, ret_typ='indices', k=self.full_view_N)\n",
    "        \n",
    "        # this is slower\n",
    "        # Bs = F.stack(*[B[best_indices[i]] for i in range(bs*tm)], axis=0)\n",
    "        # b_s = F.stack(*[bias[best_indices[i]] for i in range(bs*tm)], axis=0)\n",
    "        # best_logits = F.squeeze(F.batch_dot(Bs, nd.expand_dims(h, axis=-1)), axis=-1) + b_s\n",
    "        \n",
    "        # F.gather_nd(B, best_indices[i]) == B[best_indices[i], :]\n",
    "        best_logits = [\n",
    "            F.dot(B[best_indices[i]], h[i]) + bias[best_indices[i]]\n",
    "            for i in range(bs * tm)\n",
    "        ]\n",
    "        \n",
    "        z = z_preview\n",
    "        \n",
    "        # вот тут у чуваков map_fn хз может так и быстрее, но в mxnet вроде нет такого\n",
    "#         ind0 = F.arange(0, bs*tm, repeat=self.full_view_N, dtype=np.int)\n",
    "#         ind1 = best_indices\n",
    "#         z[ind0, ind1] = best_logits\n",
    "        for i in range(bs * tm):\n",
    "            z[i, best_indices[i]] = best_logits[i]\n",
    "            \n",
    "        if self.with_activation:\n",
    "            z = F.softmax(z, axis=-1)\n",
    "        return F.reshape(z, shape=(bs, tm, self.num_classes))"
   ]
  },
  {
   "cell_type": "code",
   "execution_count": 23,
   "metadata": {},
   "outputs": [
    {
     "name": "stdout",
     "output_type": "stream",
     "text": [
      " loss: 5.32, ppl: 205.40 time: 0.0001294\n",
      "CPU times: user 4.78 s, sys: 334 ms, total: 5.12 s\n",
      "Wall time: 3.91 s\n"
     ]
    }
   ],
   "source": [
    "%%time\n",
    "model.decoder = original_decoder\n",
    "model.decoder = create_decoder(model, preview_W=25, full_view_N=3200, rough_approximation=True)\n",
    "model.hybridize(active=False)\n",
    "evaluate_and_log(model, test_data, batch_size, context, loss=loss)"
   ]
  },
  {
   "cell_type": "code",
   "execution_count": 24,
   "metadata": {},
   "outputs": [
    {
     "name": "stdout",
     "output_type": "stream",
     "text": [
      " loss: 4.60, ppl: 99.74 time: 0.0028369\n",
      "CPU times: user 27.5 s, sys: 8.67 s, total: 36.2 s\n",
      "Wall time: 27.1 s\n"
     ]
    }
   ],
   "source": [
    "%%time\n",
    "model.decoder = original_decoder\n",
    "model.decoder = create_decoder(model, preview_W=25, full_view_N=3200, rough_approximation=False)\n",
    "model.hybridize(active=False)\n",
    "evaluate_and_log(model, test_data, batch_size, context, loss=loss)"
   ]
  },
  {
   "cell_type": "code",
   "execution_count": null,
   "metadata": {},
   "outputs": [],
   "source": []
  },
  {
   "cell_type": "code",
   "execution_count": null,
   "metadata": {},
   "outputs": [],
   "source": []
  },
  {
   "cell_type": "code",
   "execution_count": null,
   "metadata": {},
   "outputs": [],
   "source": []
  },
  {
   "cell_type": "code",
   "execution_count": 23,
   "metadata": {},
   "outputs": [
    {
     "data": {
      "image/png": "[encoded data removed]",
      "text/plain": [
       "<Figure size 1080x360 with 1 Axes>"
      ]
     },
     "metadata": {
      "needs_background": "light"
     },
     "output_type": "display_data"
    }
   ],
   "source": [
    "plt.figure(figsize=(15,5))\n",
    "for model_name, model in models.items():\n",
    "    svd, b = get_last_layer_svd_and_b(model)\n",
    "    s = svd[1]\n",
    "    plt.plot(s, label=model_name)\n",
    "plt.xlabel(f\"number of singular value\", fontsize=16)\n",
    "plt.ylabel(f\"singular value\", fontsize=16)\n",
    "plt.title(f\"Singular values of weight matrix\", fontsize=20)\n",
    "plt.legend()\n",
    "plt.show()"
   ]
  },
  {
   "cell_type": "code",
   "execution_count": 25,
   "metadata": {},
   "outputs": [],
   "source": [
    "model.decoder = original_decoder"
   ]
  },
  {
   "cell_type": "code",
   "execution_count": 26,
   "metadata": {},
   "outputs": [
    {
     "name": "stdout",
     "output_type": "stream",
     "text": [
      " loss: 4.60, ppl: 99.48 time: 0.0001666\n",
      "CPU times: user 5.21 s, sys: 121 ms, total: 5.33 s\n",
      "Wall time: 3.25 s\n"
     ]
    }
   ],
   "source": [
    "%%time\n",
    "model.decoder = original_decoder\n",
    "model.hybridize(active=False)\n",
    "orig_l, orig_t = evaluate_and_log(model, test_data, batch_size, context, loss=loss)"
   ]
  },
  {
   "cell_type": "code",
   "execution_count": 27,
   "metadata": {},
   "outputs": [],
   "source": [
    "import tqdm"
   ]
  },
  {
   "cell_type": "code",
   "execution_count": 28,
   "metadata": {},
   "outputs": [
    {
     "name": "stderr",
     "output_type": "stream",
     "text": [
      "100%|██████████| 11/11 [04:58<00:00, 27.56s/it]"
     ]
    },
    {
     "name": "stdout",
     "output_type": "stream",
     "text": [
      "CPU times: user 5min 1s, sys: 1min 33s, total: 6min 34s\n",
      "Wall time: 4min 58s\n"
     ]
    },
    {
     "name": "stderr",
     "output_type": "stream",
     "text": [
      "\n"
     ]
    }
   ],
   "source": [
    "%%time\n",
    "ts, ls = [], []\n",
    "full_view_N = 3200\n",
    "preview_Ws = [1, 5, 10, 15, 30, 50, 70, 100, 120, 150, 200]\n",
    "for preview_W in tqdm.tqdm(preview_Ws):\n",
    "    model.decoder = original_decoder\n",
    "    model.decoder = create_decoder(model, preview_W=preview_W, full_view_N=full_view_N)\n",
    "    model.hybridize(active=False)\n",
    "    l, t = evaluate(model, test_data, batch_size, context, loss=loss)\n",
    "#     l, t = evaluate_and_log(model, test_data, batch_size, context, loss=None)\n",
    "    \n",
    "#     model.decoder = original_decoder\n",
    "#     model.decoder = create_decoder(model, preview_W=preview_W, full_view_N=full_view_N, return_full=False)\n",
    "#     _, t = evaluate_and_log(model, test_data, batch_size, context, loss=None)\n",
    "    \n",
    "    ls.append(l)\n",
    "    ts.append(t)"
   ]
  },
  {
   "cell_type": "code",
   "execution_count": 29,
   "metadata": {},
   "outputs": [
    {
     "data": {
      "text/plain": [
       "Text(0.5, 1.0, 'Perplexity depending on preview window size')"
      ]
     },
     "execution_count": 29,
     "metadata": {},
     "output_type": "execute_result"
    },
    {
     "data": {
      "image/png": "[encoded data removed]",
      "text/plain": [
       "<Figure size 720x360 with 1 Axes>"
      ]
     },
     "metadata": {
      "needs_background": "light"
     },
     "output_type": "display_data"
    }
   ],
   "source": [
    "plt.figure(figsize=(10,5))\n",
    "plt.plot(preview_Ws, np.exp(ls), label=\"SVD-softmax\")\n",
    "plt.axhline(y=np.exp(orig_l), color='red', label=\"softmax\")\n",
    "plt.xlabel(\"preview window size (out of 200)\", fontsize=16)\n",
    "plt.ylabel(\"model perplexity\", fontsize=16)\n",
    "plt.ylim((np.exp(orig_l-0.01), np.exp(orig_l+0.5)))\n",
    "plt.legend()\n",
    "plt.title(\"Perplexity depending on preview window size\", fontsize=20)"
   ]
  },
  {
   "cell_type": "markdown",
   "metadata": {},
   "source": [
    "So we select found it reasonable choise to take preview window size = 1/8 of hidden dimension size (D)"
   ]
  },
  {
   "cell_type": "code",
   "execution_count": 41,
   "metadata": {},
   "outputs": [
    {
     "name": "stderr",
     "output_type": "stream",
     "text": [
      "\n",
      "  0%|          | 0/19 [00:00<?, ?it/s]\u001b[A\n",
      "  5%|▌         | 1/19 [00:09<02:46,  9.24s/it]\u001b[A\n",
      " 11%|█         | 2/19 [00:18<02:35,  9.13s/it]\u001b[A\n",
      " 16%|█▌        | 3/19 [00:26<02:24,  9.03s/it]\u001b[A\n",
      " 21%|██        | 4/19 [00:35<02:14,  8.97s/it]\u001b[A\n",
      " 26%|██▋       | 5/19 [00:44<02:04,  8.92s/it]\u001b[A\n",
      " 32%|███▏      | 6/19 [00:53<01:55,  8.89s/it]\u001b[A\n",
      " 37%|███▋      | 7/19 [01:02<01:46,  8.85s/it]\u001b[A\n",
      " 42%|████▏     | 8/19 [01:11<01:37,  8.90s/it]\u001b[A\n",
      " 47%|████▋     | 9/19 [01:20<01:31,  9.18s/it]\u001b[A\n",
      " 53%|█████▎    | 10/19 [01:32<01:29,  9.99s/it]\u001b[A\n",
      " 58%|█████▊    | 11/19 [01:46<01:28, 11.08s/it]\u001b[A\n",
      " 63%|██████▎   | 12/19 [02:01<01:26, 12.40s/it]\u001b[A\n",
      " 68%|██████▊   | 13/19 [02:19<01:23, 13.89s/it]\u001b[A\n",
      " 74%|███████▎  | 14/19 [02:39<01:18, 15.67s/it]\u001b[A\n",
      " 79%|███████▉  | 15/19 [03:01<01:10, 17.54s/it]\u001b[A\n",
      " 84%|████████▍ | 16/19 [03:24<00:58, 19.45s/it]\u001b[A\n",
      " 89%|████████▉ | 17/19 [03:51<00:43, 21.51s/it]\u001b[A\n",
      " 95%|█████████▍| 18/19 [04:19<00:23, 23.47s/it]\u001b[A\n",
      "100%|██████████| 19/19 [04:50<00:00, 25.77s/it]\u001b[A\n",
      "\u001b[A"
     ]
    }
   ],
   "source": [
    "preview_W = 25\n",
    "ls = []\n",
    "Ns = [1, 5, 10, 20, 30, 50] + list(range(100, 4000, 300)) #+ list(range(4000, 32000, 2500))\n",
    "for full_view_N in tqdm.tqdm(Ns):\n",
    "    model.decoder = original_decoder\n",
    "    model.decoder = create_decoder(model, preview_W=preview_W, full_view_N=full_view_N)\n",
    "    model.hybridize(active=False)\n",
    "    l, t = evaluate(model, test_data, batch_size, context, loss=loss)\n",
    "    ls.append(l)"
   ]
  },
  {
   "cell_type": "code",
   "execution_count": 42,
   "metadata": {},
   "outputs": [
    {
     "data": {
      "text/plain": [
       "Text(0.5, 1.0, 'Perplexity depending on number of full-view vectors')"
      ]
     },
     "execution_count": 42,
     "metadata": {},
     "output_type": "execute_result"
    },
    {
     "data": {
      "image/png": "[encoded data removed]",
      "text/plain": [
       "<Figure size 720x360 with 1 Axes>"
      ]
     },
     "metadata": {
      "needs_background": "light"
     },
     "output_type": "display_data"
    }
   ],
   "source": [
    "plt.figure(figsize=(10,5))\n",
    "plt.plot(Ns, np.exp(ls), label=\"SVD-softmax\")\n",
    "plt.axhline(y=np.exp(orig_l), color='red', label=\"softmax\")\n",
    "plt.xlabel(\"number of full-view vectors\", fontsize=16)\n",
    "plt.ylabel(\"model perplexity\", fontsize=16)\n",
    "plt.ylim((np.exp(orig_l-0.01), np.exp(orig_l+0.5)))\n",
    "plt.legend()\n",
    "plt.title(\"Perplexity depending on number of full-view vectors\", fontsize=20)"
   ]
  },
  {
   "cell_type": "markdown",
   "metadata": {},
   "source": [
    "# AWD model"
   ]
  },
  {
   "cell_type": "code",
   "execution_count": 43,
   "metadata": {},
   "outputs": [],
   "source": [
    "original_decoder = None\n",
    "model = models['awd_lstm_lm_1150']"
   ]
  },
  {
   "cell_type": "code",
   "execution_count": 44,
   "metadata": {},
   "outputs": [
    {
     "name": "stdout",
     "output_type": "stream",
     "text": [
      " loss: 4.15, ppl: 63.61 time: 0.0009189\n",
      "CPU times: user 18.5 s, sys: 697 ms, total: 19.2 s\n",
      "Wall time: 10.2 s\n"
     ]
    }
   ],
   "source": [
    "%%time\n",
    "if original_decoder is None:\n",
    "    original_decoder = model.decoder\n",
    "else:\n",
    "    model.decoder = original_decoder\n",
    "model.hybridize(active=False)\n",
    "evaluate_and_log(model, test_data, batch_size, context, loss=loss)"
   ]
  },
  {
   "cell_type": "code",
   "execution_count": 45,
   "metadata": {},
   "outputs": [],
   "source": [
    "class CELoss(gluon.loss.Loss):\n",
    "    def __init__(self, axis=-1, sparse_label=True, from_logits=False, weight=None,\n",
    "                 batch_axis=0, **kwargs):\n",
    "        super(CELoss, self).__init__(weight, batch_axis, **kwargs)\n",
    "        self._axis = axis\n",
    "        self._sparse_label = sparse_label\n",
    "        self._from_logits = from_logits\n",
    "\n",
    "    def hybrid_forward(self, F, pred, label, sample_weight=None):\n",
    "        EPS = 1e-12  # affects loss strongly!!!\n",
    "        log_pred = F.log(F.clip(pred, EPS, 1-EPS))\n",
    "        loss = -F.pick(log_pred, label, axis=self._axis, keepdims=True)\n",
    "        return F.mean(loss, axis=self._batch_axis, exclude=True)"
   ]
  },
  {
   "cell_type": "code",
   "execution_count": 46,
   "metadata": {},
   "outputs": [],
   "source": [
    "def get_last_layer_weight_and_bias(model):\n",
    "    params = model.collect_params()\n",
    "    W_suffix = '_hybridsequential0_embedding0_weight'\n",
    "    b_suffix = '_hybridsequential0_embedding0_bias'\n",
    "    W, b = None, None\n",
    "    for param_key in params.keys():\n",
    "        if param_key.endswith(W_suffix):\n",
    "#             print('reading weight from', param_key)\n",
    "            assert W is None\n",
    "            W = params[param_key].data().asnumpy()\n",
    "        elif param_key.endswith(b_suffix):\n",
    "#             print('reading bias from', param_key)\n",
    "            assert b is None\n",
    "            b = params[param_key].data().asnumpy()\n",
    "    assert W is not None and b is not None, params.keys()\n",
    "    return W, b\n",
    "\n",
    "def get_last_layer_svd_and_b(model):\n",
    "    W, b = get_last_layer_weight_and_bias(model)\n",
    "    U, Sigma, V_t = np.linalg.svd(W, full_matrices=False)\n",
    "    return (U, Sigma, V_t), b\n",
    "\n",
    "def create_decoder(model, preview_W=10, full_view_N=100, rough_approximation=False):\n",
    "    svd_decomposition_W, b = get_last_layer_svd_and_b(model)\n",
    "    \n",
    "    new_decoder = gluon.nn.HybridSequential()\n",
    "    new_decoder.add(\n",
    "        SVDSoftmax(\n",
    "            svd_decomposition_W, b, \n",
    "            preview_W=preview_W, \n",
    "            full_view_N=full_view_N,\n",
    "            rough_approximation=rough_approximation))\n",
    "    new_decoder.initialize()\n",
    "    return new_decoder\n",
    "\n",
    "def with_sm_decoder(model, preview_W=10, full_view_N=100, return_full=False):\n",
    "    svd_decomposition_W, b = get_last_layer_svd_and_b(model)\n",
    "    \n",
    "    new_decoder = gluon.nn.HybridSequential()\n",
    "    new_decoder.add(model.decoder[0])\n",
    "    new_decoder.add(Softmax())\n",
    "    new_decoder.initialize()\n",
    "    return new_decoder"
   ]
  },
  {
   "cell_type": "code",
   "execution_count": 47,
   "metadata": {
    "scrolled": true
   },
   "outputs": [],
   "source": [
    "class Softmax(gluon.HybridBlock):\n",
    "    def __init__(self, **kwargs):\n",
    "        super(Softmax, self).__init__(**kwargs)\n",
    "\n",
    "    def hybrid_forward(self, F, x):\n",
    "        return F.softmax(x, axis=-1)\n",
    "\n",
    "class SVDSoftmax(gluon.HybridBlock):\n",
    "    def __init__(self, svd_decomposition, bias, preview_W=10, full_view_N=100, \n",
    "                 rough_approximation=False, activation=False, **kwargs):\n",
    "        super(SVDSoftmax, self).__init__(**kwargs)\n",
    "        U, Sigma, V_t = svd_decomposition\n",
    "        B = U.dot(np.diag(Sigma))\n",
    "        self.preview_W = preview_W\n",
    "        self.full_view_N = min(full_view_N, B.shape[0])\n",
    "        self.num_features_in = V_t.shape[0]\n",
    "        self.num_classes = B.shape[0]\n",
    "        self.rough_approximation = rough_approximation\n",
    "        self.with_activation = activation\n",
    "        with self.name_scope():\n",
    "            self.B = self.params.get('B',\n",
    "                                      shape=B.shape,\n",
    "                                      init=mx.init.Constant(B.tolist()),\n",
    "                                      differentiable=False)\n",
    "            self.V_t = self.params.get('V_t', \n",
    "                                       shape=V_t.shape, \n",
    "                                       init=mx.init.Constant(V_t.tolist()),\n",
    "                                       differentiable=False)\n",
    "            self.bias = self.params.get('bias', \n",
    "                                        shape=bias.shape, \n",
    "                                        init=mx.init.Constant(bias.tolist()), \n",
    "                                        differentiable=False)\n",
    "\n",
    "    def hybrid_forward(self, F, x, B, V_t, bias):\n",
    "        x_shape = F.shape_array(x)\n",
    "        # now x is strictly 3d... very sad but there is no conditional operation as tf.cond\n",
    "        bs = batch_size\n",
    "        tm = bptt\n",
    "        x_2d = F.reshape(x, shape=(-3, -1))\n",
    "\n",
    "        h = F.FullyConnected(x_2d, weight=V_t, no_bias=True, num_hidden=self.num_features_in, flatten=False)\n",
    "        h_preview = F.slice_axis(h, axis=-1, begin=0, end=self.preview_W)  # h[:, :self.preview_W]\n",
    "        B_preview = F.slice_axis(B, axis=1, begin=0, end=self.preview_W)  # B[:, :self.preview_W]\n",
    "        z_preview = F.FullyConnected(h_preview, weight=B_preview, bias=bias,\n",
    "                                     no_bias=False, num_hidden=self.num_classes, flatten=False)\n",
    "        if self.rough_approximation:\n",
    "            if self.with_activation:\n",
    "                z_preview = F.softmax(z_preview, axis=-1)\n",
    "            return F.reshape(z_preview, shape=(bs, tm, self.num_classes))\n",
    "        \n",
    "        best_indices = F.topk(z_preview, axis=-1, ret_typ='indices', k=self.full_view_N)\n",
    "        \n",
    "        # this is slower\n",
    "        # Bs = F.stack(*[B[best_indices[i]] for i in range(bs*tm)], axis=0)\n",
    "        # b_s = F.stack(*[bias[best_indices[i]] for i in range(bs*tm)], axis=0)\n",
    "        # best_logits = F.squeeze(F.batch_dot(Bs, nd.expand_dims(h, axis=-1)), axis=-1) + b_s\n",
    "        \n",
    "        # F.gather_nd(B, best_indices[i]) == B[best_indices[i], :]\n",
    "        best_logits = [\n",
    "            F.dot(B[best_indices[i]], h[i]) + bias[best_indices[i]]\n",
    "            for i in range(bs * tm)\n",
    "        ]\n",
    "        \n",
    "        z = z_preview\n",
    "        \n",
    "        # вот тут у чуваков map_fn хз может так и быстрее, но в mxnet вроде нет такого\n",
    "#         ind0 = F.arange(0, bs*tm, repeat=self.full_view_N, dtype=np.int)\n",
    "#         ind1 = best_indices\n",
    "#         z[ind0, ind1] = best_logits\n",
    "        for i in range(bs * tm):\n",
    "            z[i, best_indices[i]] = best_logits[i]\n",
    "            \n",
    "        if self.with_activation:\n",
    "            z = F.softmax(z, axis=-1)\n",
    "        return F.reshape(z, shape=(bs, tm, self.num_classes))"
   ]
  },
  {
   "cell_type": "code",
   "execution_count": 48,
   "metadata": {},
   "outputs": [
    {
     "name": "stdout",
     "output_type": "stream",
     "text": [
      " loss: 5.14, ppl: 170.60 time: 0.0008090\n",
      "CPU times: user 17.5 s, sys: 1.32 s, total: 18.8 s\n",
      "Wall time: 11.8 s\n"
     ]
    }
   ],
   "source": [
    "%%time\n",
    "model.decoder = original_decoder\n",
    "model.decoder = create_decoder(model, preview_W=25, full_view_N=3200, rough_approximation=True)\n",
    "model.hybridize(active=False)\n",
    "evaluate_and_log(model, test_data, batch_size, context, loss=loss)"
   ]
  },
  {
   "cell_type": "code",
   "execution_count": 49,
   "metadata": {},
   "outputs": [
    {
     "name": "stdout",
     "output_type": "stream",
     "text": [
      " loss: 4.16, ppl: 64.08 time: 0.0067118\n",
      "CPU times: user 52.8 s, sys: 34.8 s, total: 1min 27s\n",
      "Wall time: 1min 7s\n"
     ]
    }
   ],
   "source": [
    "%%time\n",
    "model.decoder = original_decoder\n",
    "model.decoder = create_decoder(model, preview_W=25, full_view_N=3200, rough_approximation=False)\n",
    "model.hybridize(active=False)\n",
    "evaluate_and_log(model, test_data, batch_size, context, loss=loss)"
   ]
  },
  {
   "cell_type": "code",
   "execution_count": 50,
   "metadata": {},
   "outputs": [
    {
     "name": "stdout",
     "output_type": "stream",
     "text": [
      " loss: 4.15, ppl: 63.61 time: 0.0009004\n",
      "CPU times: user 17.8 s, sys: 343 ms, total: 18.1 s\n",
      "Wall time: 9.46 s\n"
     ]
    }
   ],
   "source": [
    "%%time\n",
    "model.decoder = original_decoder\n",
    "model.hybridize(active=False)\n",
    "orig_l, orig_t = evaluate_and_log(model, test_data, batch_size, context, loss=loss)"
   ]
  },
  {
   "cell_type": "code",
   "execution_count": 51,
   "metadata": {},
   "outputs": [],
   "source": [
    "import tqdm"
   ]
  },
  {
   "cell_type": "code",
   "execution_count": 52,
   "metadata": {},
   "outputs": [
    {
     "name": "stderr",
     "output_type": "stream",
     "text": [
      "\n",
      "  0%|          | 0/12 [00:00<?, ?it/s]\u001b[A\n",
      "  8%|▊         | 1/12 [00:50<09:19, 50.83s/it]\u001b[A\n",
      " 17%|█▋        | 2/12 [01:47<08:46, 52.67s/it]\u001b[A\n",
      " 25%|██▌       | 3/12 [02:44<08:05, 53.91s/it]\u001b[A\n",
      " 33%|███▎      | 4/12 [03:54<07:49, 58.67s/it]\u001b[A\n",
      " 42%|████▏     | 5/12 [05:01<07:08, 61.22s/it]\u001b[A\n",
      " 50%|█████     | 6/12 [06:23<06:44, 67.49s/it]\u001b[A\n",
      " 58%|█████▊    | 7/12 [07:28<05:33, 66.70s/it]\u001b[A\n",
      " 67%|██████▋   | 8/12 [08:39<04:31, 67.95s/it]\u001b[A\n",
      " 75%|███████▌  | 9/12 [09:32<03:10, 63.60s/it]\u001b[A\n",
      " 83%|████████▎ | 10/12 [10:29<02:03, 61.65s/it]\u001b[A\n",
      " 92%|█████████▏| 11/12 [11:27<01:00, 60.41s/it]\u001b[A\n",
      "100%|██████████| 12/12 [12:31<00:00, 61.51s/it]\u001b[A\n",
      "\u001b[A"
     ]
    },
    {
     "name": "stdout",
     "output_type": "stream",
     "text": [
      "CPU times: user 10min 37s, sys: 6min 22s, total: 16min 59s\n",
      "Wall time: 12min 31s\n"
     ]
    }
   ],
   "source": [
    "%%time\n",
    "ts, ls = [], []\n",
    "full_view_N = 3200\n",
    "preview_Ws = [1, 5, 10, 15, 30, 50, 70, 100, 120, 150, 200, 400]\n",
    "for preview_W in tqdm.tqdm(preview_Ws):\n",
    "    model.decoder = original_decoder\n",
    "    model.decoder = create_decoder(model, preview_W=preview_W, full_view_N=full_view_N)\n",
    "    model.hybridize(active=False)\n",
    "    l, t = evaluate(model, test_data, batch_size, context, loss=loss)\n",
    "#     l, t = evaluate_and_log(model, test_data, batch_size, context, loss=None)\n",
    "    \n",
    "#     model.decoder = original_decoder\n",
    "#     model.decoder = create_decoder(model, preview_W=preview_W, full_view_N=full_view_N, return_full=False)\n",
    "#     _, t = evaluate_and_log(model, test_data, batch_size, context, loss=None)\n",
    "    \n",
    "    ls.append(l)\n",
    "    ts.append(t)"
   ]
  },
  {
   "cell_type": "code",
   "execution_count": 53,
   "metadata": {},
   "outputs": [
    {
     "data": {
      "text/plain": [
       "Text(0.5, 1.0, 'Perplexity depending on preview window size')"
      ]
     },
     "execution_count": 53,
     "metadata": {},
     "output_type": "execute_result"
    },
    {
     "data": {
      "image/png": "[encoded data removed]",
      "text/plain": [
       "<Figure size 720x360 with 1 Axes>"
      ]
     },
     "metadata": {
      "needs_background": "light"
     },
     "output_type": "display_data"
    }
   ],
   "source": [
    "plt.figure(figsize=(10,5))\n",
    "plt.plot(preview_Ws, np.exp(ls), label=\"SVD-softmax\")\n",
    "plt.axhline(y=np.exp(orig_l), color='red', label=\"softmax\")\n",
    "plt.xlabel(\"preview window size (out of 200)\", fontsize=16)\n",
    "plt.ylabel(\"model perplexity\", fontsize=16)\n",
    "plt.ylim((np.exp(orig_l-0.01), np.exp(orig_l+0.5)))\n",
    "plt.legend()\n",
    "plt.title(\"Perplexity depending on preview window size\", fontsize=20)"
   ]
  },
  {
   "cell_type": "markdown",
   "metadata": {},
   "source": [
    "So we select found it reasonable choise to take preview window size = 1/8 of hidden dimension size (D)"
   ]
  },
  {
   "cell_type": "code",
   "execution_count": 54,
   "metadata": {},
   "outputs": [
    {
     "name": "stderr",
     "output_type": "stream",
     "text": [
      "\n",
      "  0%|          | 0/16 [00:00<?, ?it/s]\u001b[A\n",
      "  6%|▋         | 1/16 [00:14<03:42, 14.81s/it]\u001b[A\n",
      " 12%|█▎        | 2/16 [00:27<03:19, 14.25s/it]\u001b[A\n",
      " 19%|█▉        | 3/16 [00:40<02:59, 13.83s/it]\u001b[A\n",
      " 25%|██▌       | 4/16 [00:53<02:40, 13.40s/it]\u001b[A\n",
      " 31%|███▏      | 5/16 [01:06<02:26, 13.36s/it]\u001b[A\n",
      " 38%|███▊      | 6/16 [01:20<02:17, 13.76s/it]\u001b[A\n",
      " 44%|████▍     | 7/16 [01:36<02:07, 14.18s/it]\u001b[A\n",
      " 50%|█████     | 8/16 [01:52<01:58, 14.86s/it]\u001b[A\n",
      " 56%|█████▋    | 9/16 [02:10<01:50, 15.72s/it]\u001b[A\n",
      " 62%|██████▎   | 10/16 [02:28<01:38, 16.46s/it]\u001b[A\n",
      " 69%|██████▉   | 11/16 [02:52<01:33, 18.78s/it]\u001b[A\n",
      " 75%|███████▌  | 12/16 [03:23<01:29, 22.30s/it]\u001b[A\n",
      " 81%|████████▏ | 13/16 [04:01<01:21, 27.01s/it]\u001b[A\n",
      " 88%|████████▊ | 14/16 [04:51<01:08, 34.06s/it]\u001b[A\n",
      " 94%|█████████▍| 15/16 [05:50<00:41, 41.41s/it]\u001b[A\n",
      "100%|██████████| 16/16 [07:19<00:00, 55.83s/it]\u001b[A\n",
      "\u001b[A"
     ]
    }
   ],
   "source": [
    "preview_W = 25\n",
    "ls = []\n",
    "Ns = [5, 10, 20, 30, 50, 100, 200, 300, 400] + list(range(500, 4000, 500)) #+ list(range(4000, 32000, 2500))\n",
    "for full_view_N in tqdm.tqdm(Ns):\n",
    "    model.decoder = original_decoder\n",
    "    model.decoder = create_decoder(model, preview_W=preview_W, full_view_N=full_view_N)\n",
    "    model.hybridize(active=False)\n",
    "    l, t = evaluate(model, test_data, batch_size, context, loss=loss)\n",
    "    ls.append(l)"
   ]
  },
  {
   "cell_type": "code",
   "execution_count": 55,
   "metadata": {},
   "outputs": [
    {
     "data": {
      "text/plain": [
       "Text(0.5, 1.0, 'Perplexity depending on number of full-view vectors')"
      ]
     },
     "execution_count": 55,
     "metadata": {},
     "output_type": "execute_result"
    },
    {
     "data": {
      "image/png": "[encoded data removed]",
      "text/plain": [
       "<Figure size 720x360 with 1 Axes>"
      ]
     },
     "metadata": {
      "needs_background": "light"
     },
     "output_type": "display_data"
    }
   ],
   "source": [
    "plt.figure(figsize=(10,5))\n",
    "plt.plot(Ns, np.exp(ls), label=\"SVD-softmax\")\n",
    "plt.axhline(y=np.exp(orig_l), color='red', label=\"softmax\")\n",
    "plt.xlabel(\"number of full-view vectors\", fontsize=16)\n",
    "plt.ylabel(\"model perplexity\", fontsize=16)\n",
    "plt.ylim((np.exp(orig_l-0.01), np.exp(orig_l+0.5)))\n",
    "plt.legend()\n",
    "plt.title(\"Perplexity depending on number of full-view vectors\", fontsize=20)"
   ]
  },
  {
   "cell_type": "code",
   "execution_count": null,
   "metadata": {},
   "outputs": [],
   "source": []
  },
  {
   "cell_type": "code",
   "execution_count": null,
   "metadata": {},
   "outputs": [],
   "source": []
  },
  {
   "cell_type": "code",
   "execution_count": null,
   "metadata": {},
   "outputs": [],
   "source": []
  },
  {
   "cell_type": "code",
   "execution_count": 32,
   "metadata": {},
   "outputs": [],
   "source": [
    "def train(model, train_data, val_data, test_data, epochs, lr):\n",
    "    best_val = float(\"Inf\")\n",
    "    start_train_time = time.time()\n",
    "    parameters = model.collect_params().values()\n",
    "    for epoch in range(epochs):\n",
    "        total_L = 0.0\n",
    "        start_epoch_time = time.time()\n",
    "        start_log_interval_time = time.time()\n",
    "        hiddens = [model.begin_state(batch_size//len(context), func=mx.nd.zeros, ctx=ctx)\n",
    "                   for ctx in context]\n",
    "        for i, (data, target) in enumerate(train_data):\n",
    "            data_list = gluon.utils.split_and_load(data, context,\n",
    "                                                   batch_axis=1, even_split=True)\n",
    "            target_list = gluon.utils.split_and_load(target, context,\n",
    "                                                     batch_axis=1, even_split=True)\n",
    "            hiddens = detach(hiddens)\n",
    "            L = 0\n",
    "            Ls = []\n",
    "            with autograd.record():\n",
    "                for j, (X, y, h) in enumerate(zip(data_list, target_list, hiddens)):\n",
    "                    output, h = model(X, h)\n",
    "                    batch_L = loss(output.reshape(-3, -1), y.reshape(-1,))\n",
    "                    L = L + batch_L.as_in_context(context[0]) / (len(context) * X.size)\n",
    "                    Ls.append(batch_L / (len(context) * X.size))\n",
    "                    hiddens[j] = h\n",
    "            L.backward()\n",
    "            grads = [p.grad(x.context) for p in parameters for x in data_list]\n",
    "            gluon.utils.clip_global_norm(grads, grad_clip)\n",
    "\n",
    "            trainer.step(1)\n",
    "\n",
    "            total_L += sum([mx.nd.sum(l).asscalar() for l in Ls])\n",
    "\n",
    "            if i % log_interval == 0 and i > 0:\n",
    "                cur_L = total_L / log_interval\n",
    "                print('[Epoch %d Batch %d/%d] loss %.2f, ppl %.2f, '\n",
    "                      'throughput %.2f samples/s'%(\n",
    "                    epoch, i, len(train_data), cur_L, math.exp(cur_L),\n",
    "                    batch_size * log_interval / (time.time() - start_log_interval_time)))\n",
    "                total_L = 0.0\n",
    "                start_log_interval_time = time.time()\n",
    "\n",
    "        mx.nd.waitall()\n",
    "\n",
    "        print('[Epoch %d] throughput %.2f samples/s'%(\n",
    "                    epoch, len(train_data)*batch_size / (time.time() - start_epoch_time)))\n",
    "        val_L, val_time = evaluate(model, val_data, batch_size, context[0])\n",
    "        print('[Epoch %d] time cost %.2fs, valid loss %.2f, valid ppl %.2f'%(\n",
    "            epoch, time.time()-start_epoch_time, val_L, math.exp(val_L)))\n",
    "\n",
    "        if val_L < best_val:\n",
    "            best_val = val_L\n",
    "            test_L, test_time = evaluate(model, test_data, batch_size, context[0])\n",
    "            model.save_parameters('{}_{}-{}.params'.format(model_name, dataset_name, epoch))\n",
    "            print('test loss %.2f, test ppl %.2f, test time %.2f'%(\n",
    "                test_L, math.exp(test_L), test_time))\n",
    "        else:\n",
    "            lr = lr*0.25\n",
    "            print('Learning rate now %f'%(lr))\n",
    "            trainer.set_learning_rate(lr)\n",
    "\n",
    "    print('Total training throughput %.2f samples/s'%(\n",
    "                            (batch_size * len(train_data) * epochs) /\n",
    "                            (time.time() - start_train_time)))"
   ]
  },
  {
   "cell_type": "code",
   "execution_count": 7,
   "metadata": {},
   "outputs": [
    {
     "name": "stdout",
     "output_type": "stream",
     "text": [
      "[Epoch 0 Batch 200/2983] loss 7.66, ppl 2129.11, throughput 281.65 samples/s\n",
      "[Epoch 0 Batch 400/2983] loss 6.75, ppl 853.92, throughput 286.11 samples/s\n",
      "[Epoch 0 Batch 600/2983] loss 6.34, ppl 568.07, throughput 286.57 samples/s\n",
      "[Epoch 0 Batch 800/2983] loss 6.18, ppl 483.26, throughput 286.67 samples/s\n",
      "[Epoch 0 Batch 1000/2983] loss 6.05, ppl 422.96, throughput 286.33 samples/s\n",
      "[Epoch 0 Batch 1200/2983] loss 5.97, ppl 391.82, throughput 286.72 samples/s\n",
      "[Epoch 0 Batch 1400/2983] loss 5.87, ppl 352.51, throughput 286.17 samples/s\n",
      "[Epoch 0 Batch 1600/2983] loss 5.86, ppl 351.89, throughput 286.47 samples/s\n",
      "[Epoch 0 Batch 1800/2983] loss 5.70, ppl 299.67, throughput 286.51 samples/s\n",
      "[Epoch 0 Batch 2000/2983] loss 5.67, ppl 289.43, throughput 286.45 samples/s\n",
      "[Epoch 0 Batch 2200/2983] loss 5.57, ppl 261.92, throughput 283.67 samples/s\n",
      "[Epoch 0 Batch 2400/2983] loss 5.58, ppl 264.64, throughput 287.07 samples/s\n",
      "[Epoch 0 Batch 2600/2983] loss 5.56, ppl 259.61, throughput 286.79 samples/s\n",
      "[Epoch 0 Batch 2800/2983] loss 5.45, ppl 233.80, throughput 286.83 samples/s\n",
      "[Epoch 0] throughput 286.10 samples/s\n",
      "[Epoch 0] time cost 220.27s, valid loss 5.43, valid ppl 229.27\n",
      "test loss 5.35, test ppl 209.76\n",
      "[Epoch 1 Batch 200/2983] loss 5.46, ppl 235.52, throughput 285.73 samples/s\n",
      "[Epoch 1 Batch 400/2983] loss 5.45, ppl 231.90, throughput 285.68 samples/s\n",
      "[Epoch 1 Batch 600/2983] loss 5.28, ppl 196.60, throughput 286.16 samples/s\n",
      "[Epoch 1 Batch 800/2983] loss 5.30, ppl 200.04, throughput 285.95 samples/s\n",
      "[Epoch 1 Batch 1000/2983] loss 5.27, ppl 193.67, throughput 286.28 samples/s\n",
      "[Epoch 1 Batch 1200/2983] loss 5.26, ppl 192.25, throughput 287.54 samples/s\n",
      "[Epoch 1 Batch 1400/2983] loss 5.26, ppl 193.11, throughput 287.19 samples/s\n",
      "[Epoch 1 Batch 1600/2983] loss 5.32, ppl 204.93, throughput 287.07 samples/s\n",
      "[Epoch 1 Batch 1800/2983] loss 5.19, ppl 178.72, throughput 286.75 samples/s\n",
      "[Epoch 1 Batch 2000/2983] loss 5.20, ppl 181.86, throughput 286.25 samples/s\n",
      "[Epoch 1 Batch 2200/2983] loss 5.12, ppl 166.78, throughput 286.62 samples/s\n",
      "[Epoch 1 Batch 2400/2983] loss 5.15, ppl 171.82, throughput 286.76 samples/s\n",
      "[Epoch 1 Batch 2600/2983] loss 5.16, ppl 174.33, throughput 286.38 samples/s\n",
      "[Epoch 1 Batch 2800/2983] loss 5.08, ppl 160.75, throughput 285.96 samples/s\n",
      "[Epoch 1] throughput 286.54 samples/s\n",
      "[Epoch 1] time cost 219.95s, valid loss 5.18, valid ppl 178.26\n",
      "test loss 5.11, test ppl 164.85\n",
      "[Epoch 2 Batch 200/2983] loss 5.13, ppl 169.59, throughput 285.19 samples/s\n",
      "[Epoch 2 Batch 400/2983] loss 5.15, ppl 172.81, throughput 285.91 samples/s\n",
      "[Epoch 2 Batch 600/2983] loss 4.98, ppl 145.79, throughput 286.02 samples/s\n",
      "[Epoch 2 Batch 800/2983] loss 5.03, ppl 152.64, throughput 285.52 samples/s\n",
      "[Epoch 2 Batch 1000/2983] loss 5.01, ppl 150.53, throughput 286.92 samples/s\n",
      "[Epoch 2 Batch 1200/2983] loss 5.02, ppl 150.96, throughput 286.73 samples/s\n",
      "[Epoch 2 Batch 1400/2983] loss 5.04, ppl 154.39, throughput 286.80 samples/s\n",
      "[Epoch 2 Batch 1600/2983] loss 5.12, ppl 166.87, throughput 287.14 samples/s\n",
      "[Epoch 2 Batch 1800/2983] loss 4.98, ppl 145.72, throughput 286.81 samples/s\n",
      "[Epoch 2 Batch 2000/2983] loss 5.01, ppl 150.14, throughput 286.90 samples/s\n",
      "[Epoch 2 Batch 2200/2983] loss 4.92, ppl 137.60, throughput 286.56 samples/s\n",
      "[Epoch 2 Batch 2400/2983] loss 4.96, ppl 142.19, throughput 285.76 samples/s\n",
      "[Epoch 2 Batch 2600/2983] loss 4.98, ppl 145.89, throughput 286.74 samples/s\n",
      "[Epoch 2 Batch 2800/2983] loss 4.91, ppl 134.98, throughput 286.45 samples/s\n",
      "[Epoch 2] throughput 286.46 samples/s\n",
      "[Epoch 2] time cost 219.99s, valid loss 5.07, valid ppl 158.99\n",
      "test loss 5.00, test ppl 147.81\n",
      "Total training throughput 255.53 samples/s\n"
     ]
    }
   ],
   "source": [
    "train(model, train_data, val_data, test_data, epochs, lr)"
   ]
  },
  {
   "cell_type": "code",
   "execution_count": null,
   "metadata": {},
   "outputs": [],
   "source": []
  }
 ],
 "metadata": {
  "kernelspec": {
   "display_name": "Python 3",
   "language": "python",
   "name": "python3"
  },
  "language_info": {
   "codemirror_mode": {
    "name": "ipython",
    "version": 3
   },
   "file_extension": ".py",
   "mimetype": "text/x-python",
   "name": "python",
   "nbconvert_exporter": "python",
   "pygments_lexer": "ipython3",
   "version": "3.6.7"
  }
 },
 "nbformat": 4,
 "nbformat_minor": 2
}
