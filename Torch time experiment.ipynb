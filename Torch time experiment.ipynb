{
 "cells": [
  {
   "cell_type": "code",
   "execution_count": 2,
   "metadata": {},
   "outputs": [],
   "source": [
    "import torch\n",
    "import torch.nn.functional as F"
   ]
  },
  {
   "cell_type": "code",
   "execution_count": 3,
   "metadata": {},
   "outputs": [],
   "source": [
    "A = torch.randn((262000, 2000)) / 2000 # generate A so that Ah ~ normal(0,1)\n",
    "h = torch.randn((2000, 1))\n",
    "b = torch.randn((262000, 1))\n",
    "\n",
    "W_size = 256\n",
    "N_size = 16000"
   ]
  },
  {
   "cell_type": "code",
   "execution_count": 21,
   "metadata": {},
   "outputs": [],
   "source": [
    "def Softmax(A, h, b):\n",
    "    L = torch.autograd.Variable(F.linear(h.transpose(0, 1), weight=A, bias=b[:, 0]))\n",
    "    return F.softmax(L, dim=1).data.transpose(0, 1)\n",
    "\n",
    "def SVDSoftmax(A, h, b, W_size, N_size, B, V_t):\n",
    "    h = torch.mm(V_t,h)\n",
    "    z = torch.zeros_like(b)\n",
    "    torch.add(torch.mm(B[:, :W_size], h[:W_size]), b, out=z)\n",
    "\n",
    "    top_k_ind = torch.topk(z, k=W_size, dim=0, sorted=False)[1][:,0]\n",
    "    torch.add(torch.mm(B[top_k_ind], h), b[top_k_ind], out=z[top_k_ind])\n",
    "    z_exp = torch.exp(z - torch.max(z))\n",
    "    return z_exp / z_exp.sum()"
   ]
  },
  {
   "cell_type": "code",
   "execution_count": 5,
   "metadata": {},
   "outputs": [],
   "source": [
    "U, S, V = torch.svd(A)\n",
    "V_t = V.transpose(0, 1)\n",
    "B = U * S"
   ]
  },
  {
   "cell_type": "code",
   "execution_count": 6,
   "metadata": {},
   "outputs": [
    {
     "name": "stdout",
     "output_type": "stream",
     "text": [
      "10 loops, best of 3: 33.9 ms per loop\n"
     ]
    }
   ],
   "source": [
    "%timeit SVDSoftmax(A, h, b, W_size, N_size, B, V_t)"
   ]
  },
  {
   "cell_type": "code",
   "execution_count": 8,
   "metadata": {},
   "outputs": [
    {
     "name": "stdout",
     "output_type": "stream",
     "text": [
      "10 loops, best of 3: 96.2 ms per loop\n"
     ]
    }
   ],
   "source": [
    "%timeit Softmax(A, h, b)"
   ]
  },
  {
   "cell_type": "code",
   "execution_count": 22,
   "metadata": {},
   "outputs": [
    {
     "data": {
      "text/plain": [
       "0.020496925"
      ]
     },
     "execution_count": 22,
     "metadata": {},
     "output_type": "execute_result"
    }
   ],
   "source": [
    "import numpy as np\n",
    "prob_softmax = Softmax(A, h, b)\n",
    "prob_svdsoftmax = SVDSoftmax(A, h, b, W_size, N_size, B, V_t)\n",
    "np.linalg.norm(prob_svdsoftmax - prob_softmax) / np.linalg.norm(prob_softmax)"
   ]
  }
 ],
 "metadata": {
  "kernelspec": {
   "display_name": "Python [default]",
   "language": "python",
   "name": "python3"
  },
  "language_info": {
   "codemirror_mode": {
    "name": "ipython",
    "version": 3
   },
   "file_extension": ".py",
   "mimetype": "text/x-python",
   "name": "python",
   "nbconvert_exporter": "python",
   "pygments_lexer": "ipython3",
   "version": "3.5.6"
  }
 },
 "nbformat": 4,
 "nbformat_minor": 2
}
